{
  "nbformat": 4,
  "nbformat_minor": 0,
  "metadata": {
    "colab": {
      "provenance": []
    },
    "kernelspec": {
      "name": "ir",
      "display_name": "R"
    },
    "language_info": {
      "name": "R"
    }
  },
  "cells": [
    {
      "cell_type": "markdown",
      "source": [
        "This notebook is largely based on the scRepertoire tutorial (https://www.borch.dev/uploads/screpertoire/articles/loading) and uses scRepertoire to analyse immune cell receptor data.\n"
      ],
      "metadata": {
        "id": "E8bpz6NNg4JL"
      }
    },
    {
      "cell_type": "markdown",
      "source": [
        "# Setup"
      ],
      "metadata": {
        "id": "0Cs-3fFPl5pS"
      }
    },
    {
      "cell_type": "markdown",
      "source": [
        "**Only run this setup section on google colab, do not run this code if you use this notebook in a different environment.**"
      ],
      "metadata": {
        "id": "SSyA79piFfAG"
      }
    },
    {
      "cell_type": "code",
      "source": [
        "## https://stackoverflow.com/questions/70025153/how-to-access-the-shell-in-google-colab-when-running-the-r-kernel\n",
        "shell_call <- function(command, ...) {\n",
        "  result <- system(command, intern = TRUE, ...)\n",
        "  cat(paste0(result, collapse = \"\\n\"))\n",
        "}\n",
        "\n",
        "loadPackages = function(pkgs){\n",
        "  myrequire = function(...){\n",
        "    suppressWarnings(suppressMessages(suppressPackageStartupMessages(require(...))))\n",
        "  }\n",
        "  ok = sapply(pkgs, require, character.only=TRUE, quietly=TRUE)\n",
        "  if (!all(ok)){\n",
        "    message(\"There are missing packages: \", paste(pkgs[!ok], collapse=\", \"))\n",
        "  }\n",
        "}\n",
        "\n",
        "## Setup R2U\n",
        "download.file(\"https://github.com/eddelbuettel/r2u/raw/master/inst/scripts/add_cranapt_jammy.sh\",\n",
        "              \"add_cranapt_jammy.sh\")\n",
        "Sys.chmod(\"add_cranapt_jammy.sh\", \"0755\")\n",
        "shell_call(\"./add_cranapt_jammy.sh\")\n",
        "bspm::enable()\n",
        "options(bspm.version.check=FALSE)\n",
        "shell_call(\"rm add_cranapt_jammy.sh\")"
      ],
      "metadata": {
        "colab": {
          "base_uri": "https://localhost:8080/"
        },
        "id": "bQbwprISeROk",
        "outputId": "c52c3511-a6ab-4067-be59-1f58c83c562e"
      },
      "execution_count": 1,
      "outputs": [
        {
          "output_type": "stream",
          "name": "stdout",
          "text": [
            "46 packages can be upgraded. Run 'apt list --upgradable' to see them.\n",
            "Reading package lists...\n",
            "Building dependency tree...\n",
            "Reading state information...\n",
            "ca-certificates is already the newest version (20230311ubuntu0.22.04.1).\n",
            "gnupg is already the newest version (2.2.27-3ubuntu2.1).\n",
            "gnupg set to manually installed.\n",
            "wget is already the newest version (1.21.2-2ubuntu1.1).\n",
            "0 upgraded, 0 newly installed, 0 to remove and 46 not upgraded.\n",
            "-----BEGIN PGP PUBLIC KEY BLOCK-----\n",
            "\n",
            "mQINBFM+sY8BEADA70T+U0/2WNjOTLvytuXLvBC4vgA8hYvOaBS1cL3d8lu4mwr4\n",
            "W84/6p4v/mXle/0eIO2D2g+XfK72ZHZxpS+bb7yPxrkCDLGxwUd/khtTJHSbbKFo\n",
            "J73AsABflMe+8qv+E74+QTiXErTCNioFRz18sa0EvOnEAiokau6TZVYY2z9YjBNI\n",
            "yEjTi+z+g8c1RL6VmrFEpTicTpafOLbkRyw0VKnAKG7Ytp3Ksc1G9/IAoKw3Q9La\n",
            "0DJb5iX6hyB7+PNid6htK4LtPKZ2dNSrnRvNNkjj5BgcM2AT1hmxbzHNzIVmPoKA\n",
            "CQFrkdjog3/PcyjdtZG7cfoSDXrbIAZeAa2ngLv9C/DJatVDd6maPOe66gLo7+As\n",
            "ErMvO9vtiouqLdurW+Lhx0jFW9Ca3g1taLfbSDyS3X1mOGWcisbQvBqkIuoDQTeS\n",
            "V4Z04wrwTZ1HtweKG/s5fmPtZNGWVI5YNRLIwdmbGzFTMPu2XTAOd+xSK2H+46Kh\n",
            "Sh4kFeP6pBh5No4ET1MzIuDAHwl0J+mbWKPH4tIosYkcVmvEiNY5Ooq8v0I1svc3\n",
            "ZYndlXGnqlrICj6ftEf4Mxvl8ZWLD6svNCWF/r/a7CecPgVkcHwY+zBEany/Ndfk\n",
            "kA17mg5tEfksIXO/j71EdpKHdUKfysqOKgdkw0I6UGCScJlULy+jc2loTQARAQAB\n",
            "tCJEaXJrIEVkZGVsYnVldHRlbCA8ZWRkQGRlYmlhbi5vcmc+iEYEEBECAAYFAlM+\n",
            "tfoACgkQCZSR95Gw07dziACdEOBDnlXZm4Zjce4YeEKJD3e4SPsAn2SjogZ7NYAT\n",
            "zMjxcaLc7pBZ3ht+iEYEEBECAAYFAlQHRekACgkQFShl+2J8z5W7xQCgnggW4HDA\n",
            "2okBJug4eGNmrQ1LGccAnRTzYB/eEQGs3QxcMxJuSWJtkHAiiEYEEBEIAAYFAlNA\n",
            "KMIACgkQ2wQKE6PXubwz+QCfT1ef1nUaBWAC+x1y2ln4X/2R1T8AoMt4stwpK+C1\n",
            "sc/yy6WM0Asid+G7iEYEEBEIAAYFAlNcPjwACgkQebASZpNwHu/xRQCfQsq8U23p\n",
            "gVct+Au+p/VkqHMG618AnilNqrxGrA+QcsmKLenpz2qmhUuAiEYEEBEIAAYFAlSY\n",
            "jREACgkQMFbw70wtPvrQNACffFe0z0aDJLuSVwmvdSDjpuTqzkkAnR97tE15odhz\n",
            "BSFW8v+RlOYzRvH5iEYEEBEIAAYFAlSwNn8ACgkQS/29pmBF+x71/wCfTd74iN5X\n",
            "klyQDpgFhZSu3H9UiQwAnikNt8RuzOyEM2shM+TT9VBelCAaiQIcBBABAgAGBQJU\n",
            "C+BkAAoJEJzRfVgHwHE6PMwP/i+0r2zo2U5yDobYISwH+qyTlDOozZUpcLbAzmgd\n",
            "T9z4DB/LRfjvuM8kqxRGt4i1HtmWzO2mOznW/fay4V+zjKduENqOZ1LldJRwwcyB\n",
            "ohUD1d7hUmnS48J8+1UFqJ4Bwn5vQrSlNY0BrDaaOc3gokU6SaI6yodj5f6zjEWK\n",
            "lCiDSggCxFxV2FYCaZEt1/HRYV38K2UDjH9kPLa9or8/YpL+kHxOz+BKqaHEcP2O\n",
            "eRKn1216Q+WHBCIWE6aYnAT79nbwDR8AiRe5wAyuq3KzMcaqqrXDJdkO5elAGFSg\n",
            "1mB1qeIcS04esh9AUYXXkBgrQeZQ3YTzvDqRkXceLU2u/8RyUhNuR0HisY9lal12\n",
            "9sjeoiu9VYQE7rn4Pfgl/vcJp+Lo0i/fwIWmTO94cG8ait/5QLFroC1B6wjaCBwZ\n",
            "ytGnmAdJENQeQv/iZyCmygqCLw0Suqe2yh+XdM6AzEd9pZBH6gxMpz+8G0KX8F+e\n",
            "k9vkDzYFDnPUxrSRMkpXGAjSIG+mw/aHgVw2CyWlQ3ZkKHBn8UTChNni4Ms5VgwM\n",
            "NEzg8Qon60lDLtILX7b3MK2r3Rpilv2iZykGijZFMHT1PHOjQpW3zssaS3pqMUgZ\n",
            "TyJx33fPxQTJiT9tboaZEiyUYNYIBDfNFaHFU9k0ZrrxzGXiCIrx/BXfVBnWFMUp\n",
            "frIaiQIcBBABCAAGBQJTQCk2AAoJEMn8Qbj5jGbPYdcQAIKMzds2YKl9EusEpGPw\n",
            "vlaxCPOZ2koQno2zZEKmGg+vjAxwDIIrnQ2D7RDxXa7ed/id22saQ0JCYXAQGPh8\n",
            "gfaF1D0qDk0NnVzAnQbWfTeqvaP8MPx4lI1BQFvCdQVgwnThta4adBrgTX1nID64\n",
            "x1yi/9UVQrOKpFd9Xthieexbhjul5KjDUn4tTLucQDgrrbVHs2k4KS+MmPxL9nHQ\n",
            "W3XOD7y2+Z1sutxE7vxTKfl2ADFTF7HQ2bEdgQZmRnXStmPhu1lpDi74t9k7GI21\n",
            "Qlsr9GoxYIwIZ1q3MLBrCR590Gl6t2TMp1ZH0YTFTrm1C9fKZZDVngCcw74Auath\n",
            "galOkgBeyH8Ghy2ZBnhFjh/azmu8xWE6LPOemiYaYLWAv/PVJGSrgTdtswT7AMgm\n",
            "ytF3Z1suTLxec0yc7QaKDzyIikhTxw7qAcLz2bcC3DlWilfXWnsQmXrChVfGrv/R\n",
            "JntvN26PKwEIVZXf49w5cfOjuPj0dp9t2HIIkEm9KEF3xPbmeyWidJktMrXiDskg\n",
            "GNbu9HZtHyO2vAy3tQGlG/4/1++kkMwowDXC27zY1rMjCYtzVog7D4KaYx/IwT3H\n",
            "gj6ANDOiiNjnc6i2E91e312TeFyZdj68+8EXp3G0wlQm1WU8bddWm2m5Zbb3+s/b\n",
            "WZeT8QtspPsL6DLbW1P+YdXYiQIcBBABCAAGBQJTXD1cAAoJEFipIs3bXbCObugP\n",
            "/3lDWzkfQeDrmHUTO1TVkDxh7Exw54ob7Yn+n/Q/btkaDzuMVWglFCZBKaI3akXw\n",
            "ROmxTp2Re9Xir4brN4Izqfl6dfwP5fmslZkwSboKShHaHmHCf9Hn2C/5dY0rysqG\n",
            "MfczzaX1tWsGgY57hxF0Xik1ZQaeOEfgQ3Jd8XshznIUwA2Kk1tkZdGXrDG+wIbE\n",
            "L5S9ns98rzggg5KCKGXXWXCPEP5wZIoy+Trf/nO2eazW2i49xhdybH0cp4ipA7QA\n",
            "JKCekYxK3nY+P72E/joBFSD2bAes+pFwWsp03dh74FErzQ4EqO0GIXdFkfE/ZPYz\n",
            "L671lLHfXO0PHVhIqMXE2kq1mSgvPSF24w1rYmmC9gsFlH11GsilcJn9UjCzGuWr\n",
            "Ow0ZCUP6U1c87XZPdKt3QRTw/3yyjndXDbE2iQ3UvyJsioWv3cP+ET6HVIkoMsui\n",
            "XnuOpYqHOI8LJjoJSQiYAY0TxrgGrahHzuKXMsSnTEAt49LWilv5NGiXcvrbcqNu\n",
            "fDKnN2QS63ZuOnmi5otB4QsAx74Efy/76giYwdTLtP3AWTniiqbXdHIj9Cvxnhjp\n",
            "J5dFA+MMbNGM7jw9j/zep7JE7fPDRdlAhUn/nmtdaC3ze03tBcWD+9ez5W3i3hPL\n",
            "EltTvllfX9PS84WFmAhhWcmDYXd1wK4FxPbZfbRhm4MciQIcBBABCAAGBQJUlJjw\n",
            "AAoJEApQQvSXUQMcw+4P/jKffAptsSxH2rB6G7hROZDJFowGq5YcpONyC3/CQn2w\n",
            "HCqjTk9YaL0AXycvayqUm6fEjfNg+9org8XnhRyzY/+C67SHiDDjOLGrHOwxMdB+\n",
            "0yxZT7WkIBNO/qWzkpIGahho96TKKck1k9eHr7Xd0H6roQ59fXhyor5QRhVZNKYZ\n",
            "G7DGd4wNicWPiujyNhAii7LVaMta7+nIVvQwhS0sJROYZigPCSJKtNxPVMg8bDm2\n",
            "53JXCeRKWjjrtGlRfbCyheBqf33sANbzUZ6urxYvhGtusev+XUfT9qtCm/ZkcbCh\n",
            "0H92oe6S3RrZePmzwTOxTmKFXu6N798aee8H5orCwHpQ54knSu2yesAfBN78JKsy\n",
            "UdncSNg2x/+1T6Ya/hnhgnO9hJZJdK2wr+5IqWTLq+BIXAchhPUnszxzIEKn5Q3t\n",
            "i9DisflEELGDXQ/SNoWPIaG1cqG4m+98ndaNPqH934AdbXzcX8Rq6qE1zC5rgKcS\n",
            "Khzve0vVLkRrkbi9e/1dgwuORCSUeGAgScTuBWGeEoK3MLZiuZ+gM3D0jrCgbeYs\n",
            "aAKM8ouHsgIifwvxOENy8DqXkxbpwvq9zvvLF+cNMnVvmGWqwxMBXo0Le3CMQhE3\n",
            "hmpayPEDa0t8UsnA8qGXzfK0GCQX/3lAOWkZ4A3A5kRGLAyiiOj9gpwfrlFpRLDl\n",
            "iQIcBBABCAAGBQJUsDXwAAoJEL+ij4ufyK5zp6AQALSRMgYN8glULuXpUnnjOkrj\n",
            "7By5eAzixzemkbbfWjHg4YteBX8EZviaJi7dTu71rDEFWUiyux87diAY6KwUt9SS\n",
            "axQhQ4fOeAyP/ZfFforV9ZeD/hcpzVZc1/A93THJ/BWLG08bgh9sXanJLAQm6YU0\n",
            "hT4JgGv3y8yso9jHhlFFNkKK2lij/uea1Fa061XueTry8vn7g5oblm9v60s/zG+v\n",
            "jgksRbojMKYYF0j/dYF8gO32ZBDAnCSgWJb8HPbLwbcJDfAmT3wKuNXbCf+76wr/\n",
            "0LDZHXxJU5d7xhpbjO4W3FeGqHKwobk1Bcm13W6MT46femmabk9KrlBq2yNVdpyn\n",
            "IB8lmGSFcJodEulZM8YCHuSGxzy9wcQ+ScFtLRMxWbmqQhB0vj1UF1BQ0SxvkMd/\n",
            "IcyWATX4OERNdL0YvvSs/zAywIf6ku7dbMwWkXHYr0rwbibWGWBZNGFFMZzg49+B\n",
            "wFBKELxFAWgI1z37iLfwlcqNDfUVw2sb/r+6uVzPiWvhuRtZOIShatZfgwXBTSua\n",
            "l7fgRwVoIeLCHEEBSP5GX4zN4Ips3DN+tgOaxUYtXR+NVnb7tScgcMZFZfI2B/WI\n",
            "TfOw8LAvsV6hGzRh4xaWYuX0Q9OMd4EMm5GYzDELZ3zOyisv/SFHgxd4swJDHNbn\n",
            "BNU2Y2/TJRsMYXtBXJVPiQIzBBABCAAdFiEEfWrbdQ+RCFWJSEvmd8DHXntlCAgF\n",
            "AlitnkoACgkQd8DHXntlCAiwIA//TR5mF2eS7jNLnUpWAJaPfoOB+GKcIULo1czW\n",
            "MSRogTgB2uK/pvmg30KuP097P0pPRTRm9RMYYzfXwPj/DmU1qNonLc4Sduf8BKBX\n",
            "APTrszqNRVZma6ux01wtS9TQvSB4QfJ6jn+R2NrYXjGkOFrOh+DAeutS7xpW0rrN\n",
            "bJL4jYjUV1cDqeED/2Ur3miHxkUwFpYT9SkYm3uBdztqQKzdtYlZcUgN1qFu8zhH\n",
            "zE48cz6RGvFU3bQU6cvn6X0GG6oFR+i7In4BrR1xwyK22ZDJ5Ovf8WDGeR435SvH\n",
            "821rIocLN8Wmg64KjWwdW6p1QsI8NXz4a2oI2yk1q+bzX5xoEXLv6BS15yin+c7h\n",
            "BW0Ho4ORI7ugwBoLJJSx9wPyT5QQbo5IhapIwUsHAN13Ab+IokWNC5kQZYdde8GZ\n",
            "ksERDXG9TZdSEYNAxLcyU06bzQ+Flc0HcHB10kAwfIEcfuh/B29324dqSLaOWBTv\n",
            "LUgc1DDGU6dk6pwACJoQKYBLsDmrp4B3iq76hJL1NR6Mwg8lK5ius6ORjOl8neh9\n",
            "7e0KuSeL0QR1Gnq1FB80agv/KAB7k5VYVOL2oDtlwEKNHOU11A9S+c5Q78CsXWs2\n",
            "ECV5CGc2m+Aem0oJGXnq6ewejANHUXq2CeImFwQITjZ2dbykTf73Z1ZV/EP8yiEE\n",
            "5284/tOJAjsEEwECACUCGwMGCwkIBwMCBhUIAgkKCwQWAgMBAh4BAheABQJTPrNW\n",
            "AhkBAAoJEKFIn+KrmaIa0N8QAK3dhqGAn164EHI9c9XPlcSMePHqrLibIXQSN9Cp\n",
            "QCHGmeIoBBtpUrJlxKKvE+kdIYtysduMGT8dJlBjE1+LgXbF0jUrD7aRaDGAo2zX\n",
            "gnDiJmjaKrIcHuIm864O9iQcAeSz2tP9RlLoLQScgBCNJ+CaMXwlZwlLM3T4QNPt\n",
            "F7zvAiBinMwDV5iXxs9aVn4cE3+cs6lZ9XckYCHwDD1454sPqeK8nztnj0Z1exS6\n",
            "hnYzNBcjYcdLvTnyM4jM73BAl5etU3qwXtnqQ53BcIF4yNJygjZubIZQB8ZU7b4e\n",
            "NWZ4BrPWnxKagosKSrABcD8CBhoL9a4CACqmyF9Clc/rdTv0zJNk9Wr/L9qpcTP1\n",
            "bZBUTfY3zO5V/zWsIQhQxx8mLUs7yKj8rO1sg7crDxqXnOCSa6IB88X+EuU99ot3\n",
            "1C7WwknrR3mtUTW/8Vimh7eXEXU5e+91ahBFbq2mFKcrzfRTbDFqTPeCaXtNHFRq\n",
            "Z4ktnJTRN6FVMP/RJfzRORcVBfKPT2lb1fmgAXeSc0su4N61tIl+4jbs1/7bCHwz\n",
            "zWscEKTsThKGY8WqY+DfzY6eyny0SPD/nPQd2bXwTiTXFeuF0jKeN/LN2sG8tl10\n",
            "Z+6qnwHYx/65MpHN2SVrYnMA3S3iFhfc8IYOIjU4ZktdJOh3JIrHGxMEE5BC94nA\n",
            "1gKeiQI4BBMBAgAiBQJTPrGPAhsDBgsJCAcDAgYVCAIJCgsEFgIDAQIeAQIXgAAK\n",
            "CRChSJ/iq5miGlpPD/9+AUE+hDYD1dfL9a5Iz4yNGjBM+LUCbx4zSbU9Xa4RcXPL\n",
            "5PoYXmzWV8jx5Z0IMMFt+nYOeSHW/52BeD2U+W7otie1J8YV+7AUmjXtopzKsWWB\n",
            "A/BTZ33AVdw3jmmxIy3+4RrK54DDp3FMmadeshUrOmgN0mVAuXE5bQbA9lQOx+QP\n",
            "ImmoRH4HCL+Eg1qVbeEXWK2fTPNZUwogPd5gUc6L+BDT00PibL+L4z5K5cmnBRVP\n",
            "/gIrmBYWkfkYIICym+cSZ+nVfmY2OUL/VyuwIBGBnx58mbDxisEl2i5hmRGevTrR\n",
            "/M5xzjqxucrKrVv6drQCHkYy/X0bSScShv2M2Jbb5puEZedkZaogUeEozsdmh3pO\n",
            "4WxCw7BrXmP7Fug4dogb8djvmLqNcJ0F47FCNOeYb7hKi8NbWcQwMdCEUb6212J4\n",
            "rjQWNDC8nf0iU32K2F/DXrlJeSMzCXeWhz8XoyqbBbdFC3VhyDiXybZEceYKdmYH\n",
            "xBbEpKeIeeLPsB/LOj5EJJEz+dJXB7w8jeFjqTCQa65PNU9AF3+P0yp6sqki8rBv\n",
            "6WX68UvUuSFOarPYxG1vpaEnMiTVdJ9J1e78eXz9hEHKTigFJ4CAMQ8qgp2RTesq\n",
            "p80tBjmDqAcL9yovtVC2iXVC9zJLbI0IX6OHa0uDIpjWJ2YMhty018gqm0ezeokC\n",
            "MwQQAQgAHRYhBAu+7vBk6Uq+hDJYtHVBz6r8NerPBQJZ4DXKAAoJEHVBz6r8NerP\n",
            "34gP/iLqLDAzMRGGFQ4UDf17eRF3WsYcnSttwv9Pn7xQ3fWrhrKhGGGTNfaKQT4w\n",
            "N3DTAojKlqHPdBkamsGbNWYlHsY3b/3Z/NRc+ZnRxVyFwHC9s7Amitk+FWohbFR3\n",
            "goqQazZGIootMGxZYaP7806ePdTCmCmTCriP9KMxvA8WlLISWUYl/JILkWgdaPCP\n",
            "ZHXWYAI8zNWegoM6eKcu3WFSDxFNBQr18djU9z2X92hjwVsgJgO4V16MLMbqCs1x\n",
            "zLQELxau5UxRPSdVgwhtfuNuZX1z7ME4qhoaHMESMPjoWWYAc8pJaQ7nbVDq37G8\n",
            "aYuXLZ0ZWJ/cyX06Hic7e7n6qtp5uZvdHpfOHKAY+TnDlY5o0YSY0eg7vljF+s5s\n",
            "4vfdulcs3slze8M8hdrZIuaMqxYr3QFZf0qPHmERRsf0nwziEfGYesogkd2k3tqJ\n",
            "CNK7yMzbozIlRXzR1gutBTTibbRhf+cFMv4a6m/mIRG34q3gxm9hTHxzQ/PF/6Vy\n",
            "2nktsTphZhMUczD4q8B2Fix5pwtYkJ317JvifJWOmR349LdhV75PCkLgf1ZxapZ0\n",
            "rPFRLCaS1F3dxATvIE4j/dp29I2Fi2SCdezoxezyo1tFNH+azIrn3ghpt7UHpYU5\n",
            "OfInicz2uhFefpr6WXBQh0v7pTrhe0+PmSbvNzHeA87I/9xKtClEaXJrIEVkZGVs\n",
            "YnVldHRlbCA8ZGlya0BlZGRlbGJ1ZXR0ZWwuY29tPohGBBARAgAGBQJTPrX6AAoJ\n",
            "EAmUkfeRsNO3nqEAniiIKQu/J1AsO0YUxmgkheGB8FZ6AJ94wbyyGR8zIeUbd9Yx\n",
            "nKH+33r2eYhGBBARAgAGBQJUB0XpAAoJEBUoZftifM+Vz6YAoNTFx0NutNCCWlwY\n",
            "kpryxQYZMaz6AJ4qoAqF2aR/rYAZDX9XbfS1MbWzbIhGBBARCAAGBQJTQCjCAAoJ\n",
            "ENsEChOj17m8Xw4AoJeCs29fZJRPmdYMfyo2QwH05CsGAJ9P/Z4uonpZmfYSHE6Y\n",
            "/Fz/TmABM4hGBBARCAAGBQJTXD48AAoJEHmwEmaTcB7v0xIAn0vQ6kUbO9I7yRL4\n",
            "HyocEx+Ys8oIAKCA/3IZAbR6O+7hopFaqTa7/ehehohGBBARCAAGBQJUmI0RAAoJ\n",
            "EDBW8O9MLT76PikAoJIH+B1cXiIQ3rB1IMiSlvrilLboAKCRMXvo4kMmhIz6TL+8\n",
            "ks9AHD8a74hGBBARCAAGBQJUsDZ/AAoJEEv9vaZgRfseotkAn0pXDU9vXb1JLY82\n",
            "oTdI6MMICzXAAJ0dO2AXGhmQK51zfNhRTRqCPXIDqIkCHAQQAQIABgUCVAvgZAAK\n",
            "CRCc0X1YB8BxOmoAD/0boRAyefgxAuNihPCeWoLcTAicGAySm0GNgdROAAX5OTvT\n",
            "Ii3ATW4enqPRrLK+FARI42xvWcM8ekjt10vmA8XkzgAGC3jluHICAjprvcBpONHR\n",
            "yz2Bc7/qAqFP0ErrxqVuSyoNRlAtd7iOSMnDeT6ulCAMQtVKjZ5xcEnbEYokac1I\n",
            "0O1JGWDM9eHJd77ehmGcLNOBzOztwcSZ3pyS9FvjaJRM6ngv3qZluR0BR+FxOgsY\n",
            "NbjXtv/9ER1xg8f8psAAI5BArmBbPzFaEy8sEvOD5YxFZ8dI093AgeTqvmIyqEYA\n",
            "hVx20sBOnLlOinwx5njXRNt8NpSfs3yPU2NTbxVeCY+CFFqF5VCikRYTi95GQVep\n",
            "/gbZFYIUDAKzqwIMTAQ2KoaIbtExIHnzBDGVgiu1ANcMjWouoUgZzOTwXQSFO0wk\n",
            "OvxnaIpf0pPfQ+yuR+oN3U5ma3JYFgrxF0RzqCiZxlT2jZCAcciNlU/uPwvKQ4He\n",
            "6IfLMV6YZWM2TioltwHXbKhxZRSyOLQpXK5tHRGjZUDMoGy4GITnKaUCEIf8xVR5\n",
            "V8nrt/T+CSFJSG41Uq87WQvnj9tlA7gcAwyzzGLiQ2hAAJuVEakP/C8APpheG6wo\n",
            "S/NN5tcNJkvoO3ObTriAMAuoTvcaemGnaSTZP8m4dvTYQM3D9dQTyC2J11Vu+IkC\n",
            "HAQQAQgABgUCU0ApNgAKCRDJ/EG4+Yxmz/seD/45LVeLYZV/Zv9flkDEZTUz5872\n",
            "1Z0CQROL204dbZx/hGdLpDgQolPRgfd0klO2vW48jsn1y/F3wXwgGsaSia0tGcZR\n",
            "UsiPSTdvO26ZcncUBiZ8MF/Wq4foao5rhEhFQg07O2bAcDJpGWe2MoRE4WhxWp4V\n",
            "a3BoGMNPs+tNPFyGlZqtFxtPENG/HVckKKECnjkK9y1uJDqtvCVWca6YJPrXRj3x\n",
            "tj+TqZB7rmnX4yMHjKVankou6dlR0/1/Jvk+/u7R1AoPw7qYMzEi37QjI03EAsOr\n",
            "lgKq1YIvY/Wr5L3A6Cdbm9GzIL/D34J8rD1il10qDG8oj5CIR/7IyDQigb8b8H88\n",
            "6Ow11g/pTd/3ip5A9A/7rhJfo27HrlsIynZvxLoChBXEJquAjUtCm5MEactaCFp9\n",
            "deeeWbvJK/mIcyYKvfRTGiNkpcQmjqGTOFxoPOXmLA5qYVvFKonr8yMzkPL1eP2r\n",
            "tfIV5yKeWP2P0L9RX3ljVmVMwI6JmvPj8j45x7dqjxr1TURxmCUU07boYUE8ZnoH\n",
            "mi2H4xjB5u2EX1arsCCLCkSvGeD7eoBQejhKpyy3+5gz4JO4nMKJOtHZf+LCAmvc\n",
            "FXgB84kp83D54dHb6ENdI4cGgEcYy4ffccxsnzQeP16OXrciVuoWVjl7whHodjxV\n",
            "BpAEvrFNFQN4u1tHPokCHAQQAQgABgUCU1w9XAAKCRBYqSLN212wjjhtEACDek79\n",
            "4Ek3D7YuLBHVqcuOawv46KGRRTte3RecMTX8qeSiIBOHR7BX+8P7qRlXgHXytxiV\n",
            "N5o86CIyHaekqd9xXz30FOG1c5q6MYsxXEWf/9rdhbkgvG16CQ0AN+PqpJ5b3dAG\n",
            "ItjmiDw89UdCz0a0Cl+ieXJgPUKPzrLFpXFfoBUp0oA86pKbjzfaNRW+kkYqeC1k\n",
            "tvhjtNK08jH+19WbCQl57S9RP0Mug7fsivxBNTMZDVA6/pNJawaSwX7+CQgBXsHB\n",
            "D1jbUY8UMFOEQrRzBrwlnnhV9pL9O2o0nObFFC7nwlkKpSujYO4nr05NB5W88rpY\n",
            "ENtOfvnyxn9AOr/QHOxIHzVqMZnMXMzRC088fxHF7rWJV8eYICWoOIPxNSConp04\n",
            "izswjO+5UGP8ZvHuZ7zEmx6R5RZcvwodyXRouRpahr9G9UaHT5srNSyt3d9bQwRM\n",
            "GXhQ4X8BFyHk34x1FWFh8qcE1oZEWZp4htYNCa0nLaEabxIZK1Yzcpq73i8Eq15D\n",
            "FaH7mGlc1UXsFhgrBwnQUcr5NG5q8NwgA5Y7DKKM1YEbquMB78jeYmHeo3pMpZNA\n",
            "OwiWWqD9JfVycoWS0M3Ak27w5nuBNNUbLf8sMkggVcEkyNuXWEYb3yBuBMz/oUWL\n",
            "58jJRDbrRxwJsLMEbQVDt+oJbSZf9os7FWJfJ4kCHAQQAQgABgUCVJSY8AAKCRAK\n",
            "UEL0l1EDHOsvD/4not6qVWOfeg2jzQw8qM9jQDjre60rs/JkuIztcMAG/TvLgKa1\n",
            "mL6Siidwzdt5wLDYfT56whkH1s2t8VGBx60zgQd7oqsyg+kf1I0u54Q5eHjFT30U\n",
            "BtDmN0sklitdsFASlhx979VVV5IOeT/d0PnqxnLj++dYomjeD3ie+SbydXzN/u8y\n",
            "TCzM0pCEXyO1QBZXwG7XDtmbmVCxMOhisCeGPL/dwGyF3m6LqNxDmacrXLfkZSNO\n",
            "EgsFBqJX/R8dNdICNHQAbicrm6/RTrypC+KmZtvoMT+pXhoKSg2tnTkOTeLpw9bE\n",
            "dSNi2yrz9PZ6R6YdBVI/2n0M9eqEzXqIy8/7en+rp82/NlCCod54ehDoZRyJrzIz\n",
            "4AhBp2DgbMmu9RYY44yZEx6w0FBLJY03ro39QJYtyE7AawYQwA9IHVakhTtr6CdA\n",
            "vqKHSLI24IazmpPySuPpaomqeGIX0Xw6FTKEUMv9ZV+8w1LPcURyUumsyUezw6JN\n",
            "8V/0CRVXUdfY5KpMTQLL3JeMVgYKxR3vA2ReJ8yMBe7Vfd/Fn2N2mB06eo8vCZJu\n",
            "/Mb5LGe36cYZJ9z1jzKydanyFqWhBRSCVV5sa9HmeVQEJTds5jW8uDg4YLDiBt5F\n",
            "M6Six7KBzJBQ5u4bu67NquHSud09jFXlY2yWT0PebqpuYwB1VlwA7sdB+4kCHAQQ\n",
            "AQgABgUCVLA18AAKCRC/oo+Ln8iuc9dXEADK3B03hrv1+MMscnKIl7iXLc4rsbO6\n",
            "R7Vc7ivyCG4R+DVRe/kfaKQfyAey9xqtTxYJ9ysBQ8egNfvgoLVd9a0y5v1q426S\n",
            "vvdRfCAFsNLZoeuWkMvl8FavlFz/aGpPNVHfnL8UmqVHax4WMaOHdiOO2k/HkMgf\n",
            "rHhj6thmQJLxpTRIwDGO8oigh9g1kgQNq01Olb8A9TY8HUVJXvvHg9E1NwRFzxd4\n",
            "zsinIR4Hjh7s4qxWCwdKKLKCDBp1mCu5gypR+t71LDAZh0rDP9DA2BhoUUHGyJcN\n",
            "cZGrw4+gjMmXd6Wf6LTuQ3GvXaV9ASbaJKPmYBF2xjwpmNabXd9YTRzCNOJCgRWh\n",
            "M4Yi+H4gQkh0DV3nFXNZ1E1sawXI29lyEu6vW20y4Lz4mkuMP5maAukK/hrpC9iP\n",
            "GkZrpsSwblS7U+/yB6YxR2neISboAenPeRUShHc3hVhU0kjYfio0omFZ8GlrxNQl\n",
            "Z3G0qGOM7JxTCFDxHxjMvP17sR05i09b61MOqzPk3ob8bxGiHz4xc0mnyY4UFgQ8\n",
            "jWecPsX4FfwtuTTAY9BJDAkLAkZPNinRzz6pUOfiWg6soxJke/RfQma3Xd80o1P9\n",
            "FdhHUd0HWbLUsYXEtg6ZS5seVzw8Gkg1ZAt2pqZCjKq26SA/bCamty19pZ+Fd/2Z\n",
            "P79REnHHP+iRQYkCMwQQAQgAHRYhBH1q23UPkQhViUhL5nfAx157ZQgIBQJYrZ5N\n",
            "AAoJEHfAx157ZQgIkxMP/iHT7ZAwXuF+l6Mej8NBxwEoZO0U/rjRDEswDKVr1KbZ\n",
            "loKmniz89wNVEfF5maOFOT7aJrJWURW1SD4Q7kJt5NAzih8E6iE8fSCMxKeOa9/r\n",
            "ZOfZauro4ew1p1d4Wv4l25FaEHQqmfWNJlyc9QFT3CIpBwDv4cfnGQzoivMmXE+l\n",
            "QJx8z6SaG7Wjib70GcvonPfCSaleOUI02dXbV33wM46lYGL9WsEgecITYvgqGwec\n",
            "aLIXQQPKIa9icN4bwZYLH5jh46+8FDfz5sXH4huKouyxXoAE8h9DJHB5zrXKRpI0\n",
            "dKr7zmVV1Ph+6XhbxzqZAltEDzdi6luj+nugq8tGhluYi9QqWJookWt30C9NZGW6\n",
            "d/IyEHqJaQG0RCHCBLkyUCWgRbmz019aPlgcdLqOwEFKKgQO8qlyzFMOU/GlgxTs\n",
            "rFSEMAJLBvdELIW/w25nLVY6FHTpnB/Smityc72PXATO3ZkAchgDi3hFwVB86rVe\n",
            "kCVxOEdolD3ujtl2ZC9Hi9/DSwrjdl+eokddwsD5QuFk2jhNYBG5c3a3x3diMINF\n",
            "E9f0hNgtMl1OlSvrFgvBRsfqQAnh3nMhK2yQgfhO0Y5tuwVTIrlCLzE6i7nlrUF8\n",
            "QiJc5iK7t1BaNn0tJ00ik5piiAnWuyjxkTJNh/wLoHZRohpzIceLKJ1i3kZFvTt7\n",
            "iQI4BBMBAgAiBQJTPrL9AhsDBgsJCAcDAgYVCAIJCgsEFgIDAQIeAQIXgAAKCRCh\n",
            "SJ/iq5miGjoWD/9R4isVKrZ6k7XIAgRNUJofiZdg2x1NwaJ5xCcdvbh45IqZAnQg\n",
            "s+v4y4wZ04yEAaOQwUQoKw8Y91c8zAOD5aA1qB+mjv6CMrh8IzdGeuKRporMKY+s\n",
            "XBMnTDCNi/Kmlv+ux/bu7qavmXZCPswziPhJT7vuJY27ymnAXL6ZVAD1hUvaGU8x\n",
            "Zx2Y0bfd4IvNGkHxBGe26/ngns5KyRBXBeQmdxZqBvsu6fxafOQzl4p1ni9xMXg/\n",
            "p5MUJqylmFvzXaekrB7Dnr2fTGQh8xIYfaorDzP1GYWBp7pw70NWFKpt+TGaUg/3\n",
            "9rd5Z//pKFnx/VuaGDe5gaJyP7citptv73JHsocIZGipat/ouLp1trdORYHWn+/L\n",
            "ZTGl/g5IqafNAkUuL7XxrievmhyOfpi+UE6NBdIoJ6zATKwEd0x3hKBQjZJ0r9nL\n",
            "YL3tqKymTZa2Ohe1dIxoan5E77SnDKWWAlz0NjzpvOrCWB1uSBQfAp9ZY5HPAUhx\n",
            "48IvbfYYlR6KWckqhqg6C9lBXS3DaKhvIal1y5SQLEdJGK57/sXPMmdulIlNnpP1\n",
            "5EP/Yea3OQ+J/469MEpTD8oMyrVCMQ3tlimxWCyeFMyDVeDt6TjBOIeZ7Aobtkqg\n",
            "rDUbmL4z1WJxGbjsD2Gv0chBohvSoe+MnWnN+8biR3tyT3VosYNXVkjULYkCMwQQ\n",
            "AQgAHRYhBAu+7vBk6Uq+hDJYtHVBz6r8NerPBQJZ4DXKAAoJEHVBz6r8NerPtfsQ\n",
            "AJRE5F2wop4UM9JQIEJu77tiVePm8k59n8N1p0FKplmqraZDy4Rb4IKLsLxkQEVt\n",
            "58SgjmUkFnBjwpVDXiKw3ofgwAqaRWeotXVhrfOl746UbAeJ27hALxQqvidcM5bP\n",
            "UAit3BVi1PkpWOGSK+3r2yIRFzb5Os/ac0LQW+RHB3YCHR7z4qDsr8zeRPEoXKbM\n",
            "9xykKCXpQjq5RFq6sVYSufIqeWEW99h3VzTmLZwUPs1Mx+52+upernVJxWDHOwRj\n",
            "zKFA+Rg4zJvdxIFrbedzn2HZiQv0HmNmKtnk6T2lmHjJOuiaMGq9VF26QVNu1a4v\n",
            "q82ocUTx97vuio+Yhfv5t+hU1VQmWLO9S3j/TZD9GguxS12W/eceSVV8xPUgRXpA\n",
            "E4QGCm2NhWPl/qsYFUZAY0HRU2r8IVxZAcDmrjug5IyWY5ZJYugY2MayErrfv56X\n",
            "yBPxb0LWU2YFGOSE2HfXzkU0yxsXq7M5O2muxNwsoDOH+w/3R2BdduFkCoKB/88L\n",
            "VApmwFmpYEFc7JIfUXLBzDTdER8laiLaqL7FLRbjvoW8WU+y9F7c3m868hMCc/x4\n",
            "Gj4vIWJU1hHK6IdmNEPVqGXjgGJfpI5TZJ5mefRUO3DOEC7fBU9gENVEGX4VykPb\n",
            "vF5fFCc2uqEubPO1OZuQLbYd+JX2vA/Yf4NXArtyHNcntDNEaXJrIEVkZGVsYnVl\n",
            "dHRlbCA8ZGlyay5lZGRlbGJ1ZXR0ZWxAUi1Qcm9qZWN0Lm9yZz6IRgQQEQIABgUC\n",
            "Uz61+gAKCRAJlJH3kbDTt7+2AJ9OEkhet/biKHOezN5M313KVEn46gCgkXKJCmSL\n",
            "VXmEhT72GGnzKAI77G6IRgQQEQIABgUCVAdF6QAKCRAVKGX7YnzPld+RAJ0YK/Aa\n",
            "nyx9oA/p9T1/vFWJO6t8IQCfa/bODo20GJMcU9zmbkhg7+k/JpiIRgQQEQgABgUC\n",
            "U0AowgAKCRDbBAoTo9e5vFPgAJkBBjr3n22bSRVQn0GbabCN6DIAagCeJfrmELMA\n",
            "kh+1QgcSJ/A28qgnuFaIRgQQEQgABgUCU1w+PAAKCRB5sBJmk3Ae74u7AJ9u+ydE\n",
            "L4iYQKsHILpzdAzayh2u8gCeO/CxVx7HGOD+PboLoUwuasnZif2IRgQQEQgABgUC\n",
            "VJiNEQAKCRAwVvDvTC0++gvMAJ90k6EAoVqxCeskmFL7AQswEGMNuQCgu4VrwlIr\n",
            "jDVAKaaULjngfr/K8zmIRgQQEQgABgUCVLA2fwAKCRBL/b2mYEX7Hg8HAKCARWiy\n",
            "7Q7c2aA8D3BqBkbfHOuUTACgiM+6LeFn7EZdpVifZgimmpGwwTSJAhsEEAEIAAYF\n",
            "AlNcPVwACgkQWKkizdtdsI4ucQ/4peEf2FkMJ9xSrenLTOSiVs5Xy2+72KdPzP3y\n",
            "WMBmeWDtlAc+iQxsShFGd+jna7jT5Lmg1asj4aMiyrjWxVqQkjukZRfB6wLYNy9/\n",
            "vheVaS5VH1ydokVsXQgxK8YWc4dVuq2/0HdqWfDFHjSB+xOVDZDMksbRa2JNfSmU\n",
            "G0U620JZcaAp5k/zI79kTgNcGzFSkWLwlcaO56pUplu/biM8hWuho0lEcSaPIr4P\n",
            "tNGowESlyuQtFCQnew9Pb2Lm2nb8otPrC6BxQTBLhtqtsu1DFmBFuz8Sqcde/u7f\n",
            "cbF3q4w+GOWEuGU37PUYPW0HcSDMNZbKVia7Re8O6zPYkpe61IXQnUJOWaMAgsGh\n",
            "hqVY9KXehXMnQ+iOhw25ajnnU+szElTSzwB7aGuwxxioKqoRu4HyDx3b/ANtBYt7\n",
            "kH8VzsE2u3Hhpo6iat1CWo8q8PgzLhKCiw0CZ/CkeJQQ9yaC5v73nooOm9sut20Q\n",
            "zPO/fFJmfsI/fW4k6ZNZOzfRhJwtDykBPQHFoBwWb53oVwFMGekgQs3mJHtfT77f\n",
            "rRANvJHskgYBgUV3ClCcyh05LMXlzAb21l77gM/pXjTxqrIkAkBVo/9xUzK3Z1Ek\n",
            "uytK1lEW2RScpCo+J/Ie9wYDXSso3Duj5byqYJmMNoHSe8RL8auukU4JTIZMy7AG\n",
            "H7O4e4kCHAQQAQIABgUCVAvgZAAKCRCc0X1YB8BxOlglD/9gaSbmDW/rIVl0WJcm\n",
            "cKyia8GZBm6xCWCxtoMbS20FBjdt9IGJAqPDUbtarKYznpnt5llUxfA+TciGVmBC\n",
            "s8T32Ad5jLawLIWKhpbudGR3cN67DrknJa+xiPML82Yf0K0UaVzfzT5cfhoFMGUV\n",
            "H2V/fNJUbzck8yBqflhpcuTEc4a0XpylKtiwCQuqif2wWtvAnPA/M/9PrNZN4XJT\n",
            "aDBQbEALwLAeK6grMb6v+cDLSKPh+LB5MD/F7HggWFU9XQnTRbXsUCs1+K2EAVcL\n",
            "uasv8vG/f7QeT4fdgYE0bwTDFa9BFufS12y/KRxX6RVSXvGOF2kCCyUTqZzBM1s6\n",
            "C09sXrKX4pauQdARpfhESHg5a4V87kMd9h3g1f6CSCv/IR3gCTkCerEQ3kevwgwo\n",
            "q7b7wrfOlc35Y752bd8JVM3/tODLfRWDbpmuPC8N19MnSWAFkP/NDBMi0psTUXTH\n",
            "C+eMgWaYEzuCs0d7xC22mKp0SR8/6sBeraK6UGc5YHqPRoYCFli1eaRM7mvCZLth\n",
            "gfLhTeRTMTaOzeEhgnjBvLRJrKi51GFZs+bVwXqPRKMA7eYLV7sUafHi6VfWAioM\n",
            "kw4vpxgtHoOvXT9BJZr9HzYXY+zVTUw3nKQ/5empcb6DeQdwJEfdsn/Hm36wDmJZ\n",
            "s8h9CLXzfSWX9TWJgoOMAcDrc4kCHAQQAQgABgUCU0ApNgAKCRDJ/EG4+Yxmz9eC\n",
            "EACwH5Dh9rcYNV7sGlzrm4QHyHwXvdsLhSGmIi+cbgMulph+MXZwCQnX2GFYNhxe\n",
            "v3mjQlGIF0NaC+94HSBgrrzlReI/uNhL93gO28UbR+FF0ItysPHO1hhIZaAGuWdR\n",
            "JracQntZOXjHSX/+l9VQLtOlUg+skqbk4RIK1FnGemkZYM7Yjq4xkvihcNR0zKYk\n",
            "chREKvEUWujJ+/4yH5y0q6qyDsUlsEWo8vJIU+Rxxm2XRYBniZFC7kFCNIp/euh6\n",
            "fBCCMaM1gMA/TkF7F7iLLN25p2CBLGT7kwRszFitzHrTZjO2Wl9R5OFh+/O2bQ3z\n",
            "MH13Ef/tp5iihy+gWiuIhnvZTeY+xU3S4PqGCvi+e+aLw3cZ1IJCZg1MQK2oL7er\n",
            "kRmDXkt6EP2z+VZzmbU/2TTc/5CgPeqtgzBkKFtvNCTyV15sv7R3/RXw58ylq3Ai\n",
            "Kk1cSfEAWMSy2+OPa+TbiEfklunW8WxUsjuChv5n7FE2JTSHwSKGArS8jYbUYJ/+\n",
            "lnzr8Ko/2DCyYbkhuid4u0DBEL7VeSNuskirqpJqQV7/MBxLL2pbVH6wVyBYpRMY\n",
            "gBNFMUDJ8oE17ESTqmmc0rP5EJCQwBOUUrsDXI/8wNJdFpngXei4V9q6j2BXhZnA\n",
            "TGageKB0+lchm1iQiU+aVIQGkqJWQqT96j4L9PiUCDqXkokCHAQQAQgABgUCVJSY\n",
            "8AAKCRAKUEL0l1EDHEgJD/4rPO6/4d99lUxVesi/5qSozB/7UCeFyPIQXDU8QqOC\n",
            "JAQ1qutPWbVdXpIPq6Tk8rHVxYF7T4Lds3CAs0DjLdlB43QEpGYup+hRwBQdsIYx\n",
            "FL0KqPZ2qmcsus/ZMbvqffiuRj5wPCQ1Rgf3eIRkrXVWohuRk1XVLlXSRYLzWx1F\n",
            "mgBLBaRKxMxRaU87Z8ngA8ESwnD+kKCAM8mN2vdIOUYGzDTjzZeBi4BQWJBJa+RK\n",
            "9geAlv0DWd9mASKiegvL9Rh333DuVkEm62m1oeTiSgqDgnhBiGPjMXvxVNeBYUys\n",
            "j/u/4EA0K+zvg7QNjiYFENaWyPUR3p02JDbv4GVj8gh4Mt+11yYaycsV7XgqQvJO\n",
            "CxoHjjAQR07lWUi5L2YicsafnUJf5om5aRrg51G3bpa4Y6zbnrDl/EfVapV1Athf\n",
            "0JnnLbTo7rD5wRG+8RSmWfTtVOdl+6C+6B33XfRVpqh+5ui59gUUM1scesgxez0U\n",
            "mBRDWde5xohRvU8YwGZJl4VPyCM6BY8eFIwno0PcRVs+8p1HK6bQB6FPjYJNJYLP\n",
            "fGfsx/OSpoa56Bh53nsq+1HEESIdwvfKVO/7rFQzxM2ijbHCOkhK0FPNgyrh0JCH\n",
            "56j/97My3oeafw/HtT0jmIaQkP7VEnlhHC0DhIdmNyz1gzATglWZlNeWlqX3ctdJ\n",
            "YYkCHAQQAQgABgUCVLA18AAKCRC/oo+Ln8iuc+MPD/9BMqf7LWf9sCabDhOSXfql\n",
            "EFzXWwWrrPCXkUL/KK1kHf9BVbDY0lr47rDRXP3q/uIV/WDOXZ2sbZdS4VRKyshN\n",
            "Rzz/XK9W6/wbfyidemD3bJdd3wqH80XRz2qc5yThTme3fLuBg/bjdrlht4Oh7Lsh\n",
            "R0oXOh9a1CijWtdflL/IRMOzQJnqHhqRjLUduM1NrhSbrEecH9MOSJlFoRVeyI7+\n",
            "yIikOCyOlEuLLq1CeZiydhQpoetGKOnwzpfUmm/B/jnxczoe7dS1PqVxPVZAz6Jy\n",
            "Kcu8xqaJtuzrES4eAS7vz2bMAqnkhx3yOa7BNQ8ZF0KRdQmanpefNR7LVfGYgZxl\n",
            "DspO/D2tGZIXuAHauztviRkW1ZqE8opxvUjVEkyj/yOAzApuH/lU/+nLQO2MScvL\n",
            "HXd5C2TmHAFXjXzLfCoZPLGZC9VUJh04rLbaHZn3lPw5xm1HRCYBf7+5V+ojp9JU\n",
            "BrcnUbRAvC0lN5Fi3KGIqnIBwRk9lEzaD/izmxmcUa516ZPXPkiBxDE/3nWs6lI2\n",
            "UgINl9WPWVQGjxptDu7uu4mApiLG2MIAijYP2N9wUrZJ8g5hWKiO+2ovoMBLtPB8\n",
            "T/tUGGTRACZ80HJo2Z0Zc8yqDR+VkINq92XAUb9mVV0j94qNNOjMiEEhyBgzQ3c0\n",
            "Dfcl4bHQzb8nO6+Xy9zo4YkCMwQQAQgAHRYhBH1q23UPkQhViUhL5nfAx157ZQgI\n",
            "BQJYrZ5OAAoJEHfAx157ZQgIytoP/1aDfUhxWNDxMSAw/Vaxlo6okJ5FmXCbTCyH\n",
            "IJicy24HMpMdJhshSl2lYLe45W0oHdeTet3ZkBVC9sHqr8ESzQBySwG43USH+m+y\n",
            "m1gDp6c2D8zrSvpKihaFez//oJ/7rIXitlEv0S9jO1w29OfsKL8ONc4np3VrXR1k\n",
            "9JsyZoPy2vrRkseS9ZIWXidk5AVBM3yoDaTCyvSPlQ+n5FOAjIXJLJkfHuWsrkej\n",
            "PJr97Rs+7sTZnZWT+3V8hmYpQfepqkFLiMhKLVuBkqRS4ncdvBns3hI1dd+nbS4p\n",
            "XEOaBSW+TDw/JE9COfbnbPjNAqYHZ5FGTr1PwEAmIHYvE02KdyhsElKjmjJohdzL\n",
            "9OYr9v17yuyo3c6Seyk6JCvap5tHqRvjcjwJo5ZHYew37MBZ+pnDpqHlv/D0p6zV\n",
            "S7Mp4HcfjiguDO4SDUNKwtEvcrLC3UWwfF/eUeAa4QKQhiTKXDsYdkYRZ8CW840D\n",
            "VJfxtutsmI98dlmz2nBTgyNxpueWIGLZAg6X+g83boGHJRBdDPfN90ggaIUG/eYS\n",
            "zyhlvpTCw2HkEv6yx5EiSpnUy64nznVdbhzwxYPCaoCZhSicMx8LT7vp/y3UX97o\n",
            "gpv7xXjFrz8Y+ueGfYbHOnm+bOomhHVGfnSzezFg8YcyLeEA68UIO3d7KUmfH7sD\n",
            "dcflJjfTiQI4BBMBAgAiBQJTPrMcAhsDBgsJCAcDAgYVCAIJCgsEFgIDAQIeAQIX\n",
            "gAAKCRChSJ/iq5miGnlTEACtqRHgpTGN36HB0sNzG21jpLSpVdnRNYtsxyTFuNRz\n",
            "Yoi0sjRQVUcvgqNb129f4HvLQIC1ysVitLQRSd2aIyLa0xTFqG7PTbbdVIaJIGiG\n",
            "8MWA0wHdcW5YTf6DFMr3dCHGKKkIdJGi0M4z1Ge3TuMFiMm0J5y9yQ500xJvXBF4\n",
            "7F1q7WYYi1tEus6IatU/77qLKhXBs+9iPWs2ix4Hxr0T8YM82ujMhvdwXHk/X+g4\n",
            "JVsG/b9g5tvYP6vNZWA3OOaGJZoT0ZIP2/Aa+XZqlyCZmS2wm5Hu52rNtqJ1KUeI\n",
            "a2oOFnIke09pM337Cis3XK45ZyRSrbxFPxNHPIJugvDu9bMQ1wwaDpYN2ceFFOzy\n",
            "5sWXGVsHqf2p0nGhTkRTpzLP4IMzNf2pB4Vx8fbS+w0Bj3o7EJSm09daGdrFs66/\n",
            "x/VLYudOryv/rjLVXzYsCCe3GoHKmEr29ZZKQcmOv4JAbw0BmtkAAN1+mrL9X2Zr\n",
            "U3d7JHtjsqwCKTuluRMmmShgoNtWh4SCIitwwb3J5FLva93oodup6MHqqzQ8lkl5\n",
            "PIAGhbZhYLW+SaK5/IdQzAl4FDCCGK4/4369YvpK6RfhUAdWG/HsJVQXdTKuJfCl\n",
            "GXmDeuUwXZDFEXeeSjCvd5RZ4UA3I/Yk6TktEhZT2Zh3FrLQZFhLfwaETvE3x6rg\n",
            "rYkCMwQQAQgAHRYhBAu+7vBk6Uq+hDJYtHVBz6r8NerPBQJZ4DXKAAoJEHVBz6r8\n",
            "NerPP0YQALqf1obDiraLNVdYjiMDhuYDNbfodTZngMkkVZjQexHvYRxxVjaw7KBq\n",
            "vAsZxxyJ5af1oMFHLEdLi7538XtLpcyw/l2NFfUGN1Da2bJ+xnCL8xK6A1ROYgnH\n",
            "wgH851r/ahQjO7vvuVrKME1on2wSWFFheYa8wE0iNKzYNqn1oHTKccNLnUPoDtjC\n",
            "fs+vg/OjGjJ3vUAoSjn5GGp8WS1m7iigvVKOvf5iEOQyMhDcg2c4b40K1LmtRLNs\n",
            "nW6kL+sYQ7lLGE4GcD4rcTHSggu94s8I600UsXo1OefY7plm+rsujkgcfOfhWy5v\n",
            "kEdJHil0eG2uL9dXxqyOF0vdwvv13pSXnVL66QJ154n2RfxUwUQbhpk7voCiaIM2\n",
            "jHAD+7C5bueMgB7K9Xze9haetrp4pFwrDKjMnmSiwSUZH/8ohZRg4FP6BB4RbxfL\n",
            "nGylQxjXEfCdf+6UYwZccRQ0OtW8SvylTRGHHEZGR3Eb3jKK574Y5CZTwX+O8UO+\n",
            "+Y2M2IED7SEfYB8esDKaSBeA45BpeeAzLp1/cewbNJrGfhLihcW08ssmdfNKj6Hg\n",
            "iQp63e6dEXwMeRqiP8n1dQvRkVuMnhpjry2F9yQwzwyGgpLwiBtNY320M2h+dALA\n",
            "JsgKXSQhGLnKGwZbyw3Xn6r+0IdNXbfBJ9mxzAvVFRhvSwSJZbWluQINBFM+sY8B\n",
            "EADhjxWFMGpto55PFbNFDxfFHzSnZHvdvDFziMPhchNZB2UQvGvMC3p/v2MMu+Jt\n",
            "eou1a41mqbQw9piEGuWPLX4v3HfQGrGwQLMXut7ldKudujbr3AKAS2z/NTosVOoX\n",
            "3pSzbAYukrWuetdg/4drvn3aNxP7L2zu+b+OYQoGw/cQXAxmdmpbB94NoctZt/5A\n",
            "T07Y3DEv/6R3k3ZP9vB78ylHkfza8LWNeBqE/fhUDSTXM2Yr1RimcYudTT/9g1Za\n",
            "+/yg6Zaxgs7nWqQA9tjkoJ8CoE2JMhCBbHwugjjz8BeHXNK7I9EAQnQe1PCWgclt\n",
            "ii3nArjmVwcHkwN3n5L3JLDsL8zUVNOFkzPDp8ovMN6HHqNtVTe0XTVcKeio9fGw\n",
            "CggfZBAXEOUu8CNdPf6JrrUihyyLyGJ5a+T5jQ8KjSn/sgF95eurG9dZKnbWDlfy\n",
            "ewZl2q/KqmFFogdtlm6m49OpfHgG92rGZtm0exbn2TeafLCZCGPTvqPJpBKqfL6g\n",
            "SWbD8WmgjFbMAQ8Kn7vuGqI1IkATXGsnnCSSBg6UxRZAJYeiNjDfGrgOSBSoih18\n",
            "babkaZPAw8gZqZEAX1blnxO86FYrd67g73DegVLecrTx7Y5atwS5osbVWZr7iatS\n",
            "W/IxZL8tRWmk6/tYQw1o7qcZ6mTlgWjaRqHCx0Q3gJHaZQARAQABiQIfBBgBAgAJ\n",
            "BQJTPrGPAhsMAAoJEKFIn+KrmaIaNCMP/jqIu/HFbLeFJ6sh9dC+DTxFgZV0pr7R\n",
            "yFtERfBYwyhGJggV3rklWXnmPCvggCh7FBXPzQaLYj+Ebkg44RlNyTTqwiG6QyG+\n",
            "94BbtoOgcP54ZIeKGmoqyMs7hpKv3jF4i8YkhFBkmd9x2iGBHWyJ/hibZ11l+us5\n",
            "86D7ue9UKKvpSyqwvA+lVQ3wz3tgj/A/baIKDkHfTjyGpTDP9R7qKMiXDEEL5idE\n",
            "PceoUr3vdw2ziF9RkJ5Tqp4bISMmOHUiSWDmhoKBqmmm1/jyfWsPq33wdhliCKm8\n",
            "QsAXHAbYQ8ZSBbnpEkg42C2JBJ/MVm/HcgOaYhyba5KE69Us8zqw91CngodwDQXa\n",
            "nrZXOaA4/H4sUnyg0ucP3YvhL0y1NjH1rfrZ2318wyS40yKkHVkU2sWB6HeNfkJu\n",
            "Nflx37ptkvguTHVF5B+jD9LS5djUGANCYtvRK0jRwCPdqVUgBIb2obr0kmGovXnE\n",
            "Pmn9UZoqDqSm5FY80Rj6ElPSQso0rB9oI2QkNrZaCSezvu6SW2Tzm2b/ceuGz/+r\n",
            "ARLZNqmAFO8oUDjrCw45Dy4ne53e+Vqduvx1Q76LuoUnE2YGqOVGFzT0QLas+oMJ\n",
            "VJl6GRFKtZoRFEhMxDFf2mUSgis4mSjwMZI4pl0YmzDDM8IN/i+P2dFrRr1AkA89\n",
            "I5rGSOk715L9\n",
            "=VuA5\n",
            "-----END PGP PUBLIC KEY BLOCK-----\n",
            "Hit:1 https://cloud.r-project.org/bin/linux/ubuntu jammy-cran40/ InRelease\n",
            "Hit:2 http://security.ubuntu.com/ubuntu jammy-security InRelease\n",
            "Hit:3 https://developer.download.nvidia.com/compute/cuda/repos/ubuntu2204/x86_64  InRelease\n",
            "Ign:4 https://r2u.stat.illinois.edu/ubuntu jammy InRelease\n",
            "Hit:5 https://r2u.stat.illinois.edu/ubuntu jammy Release\n",
            "Hit:6 http://archive.ubuntu.com/ubuntu jammy InRelease\n",
            "Hit:7 http://archive.ubuntu.com/ubuntu jammy-updates InRelease\n",
            "Hit:9 http://archive.ubuntu.com/ubuntu jammy-backports InRelease\n",
            "Hit:10 https://ppa.launchpadcontent.net/deadsnakes/ppa/ubuntu jammy InRelease\n",
            "Hit:11 https://ppa.launchpadcontent.net/graphics-drivers/ppa/ubuntu jammy InRelease\n",
            "Hit:12 https://ppa.launchpadcontent.net/ubuntugis/ppa/ubuntu jammy InRelease\n",
            "Reading package lists...\n",
            "Building dependency tree...\n",
            "Reading state information...\n",
            "46 packages can be upgraded. Run 'apt list --upgradable' to see them.\n",
            "-----BEGIN PGP PUBLIC KEY BLOCK-----\n",
            "\n",
            "mQENBEy9tcUBCACnWQfqdrcz7tQL/iCeWDYSYPwXpPMUMLE721HfFH7d8ErunPKP\n",
            "Iwq1v4CrNmMjcainofbu/BfuZESSK1hBAItOk/5VTkzCJlzkrHY9g5v+XlBMPDQC\n",
            "9u4AE/myw3p52+0NXsnBz+a35mxJKMl+9v9ztvueA6EmLr2xaLf/nx4XwXUMSi1L\n",
            "p8i8XpAOz/Xg1fspPMRhuDAGYDnOh4uH1jADGoqYaPMty0yVEmzx74qvdIOvfgj1\n",
            "6A/9LYXk67td6/JQ5LFCZmFsbahAsqi9inNgBZmnfXO4m4lhzeqNjJAgaw7Fz2zq\n",
            "UmvpEheKKClgTQMWWNI9Rx1L8IKnJkuKnpzHABEBAAG0I01pY2hhZWwgUnV0dGVy\n",
            "IDxtYXJ1dHRlckBnbWFpbC5jb20+iQFVBBMBCgA/AhsjBgsJCAcDAgYVCAIJCgsE\n",
            "FgIDAQIeAQIXgBYhBOKYo6glwNZd/VfLtlFxZhnghNq5BQJfdcXRBQkf4HiMAAoJ\n",
            "EFFxZhnghNq5Nj8IAIqCTIJ/tMjZqiuwe7M4DQjpvGn4/QylkYLxn9dOds2nGz82\n",
            "FAukEAR3tmi22TETrqm+UOukFYUnAEOez7BJiWPwCDt9WuD4/Be8rzbjL0wEv/xu\n",
            "D1JHWxVd2DfbJG1PAsuv7ouFYbIdh24a8gYpasd6twdbPOdZa0mbzVOnwAmHiH1l\n",
            "gv2oY/McOO7unc/YGuD2lTb5ohK8yYdHsL5WYK7REPGqEGBS+ppUPWjI1qQb/g2X\n",
            "oSVfbLLiXiwdvBS4hzjiwGNe76B2jDuHsfmQFMdVpOzNKN0dk10Nm8MFFPrirUIl\n",
            "Uwk45UttOrcrs5hluLYZhMYHPJ/UNYnaJeJH58iJAT4EEwECACgFAky9tcUCGyMF\n",
            "CQlmAYAGCwkIBwMCBhUIAgkKCwQWAgMBAh4BAheAAAoJEFFxZhnghNq5PL0H/iGY\n",
            "9DsJKrDk5Lm3xTnLfwGWod+WoV6/eWVfrywO3Nh/FC5BVLd/E4GgaYVD8tJ9dBiE\n",
            "MboFlricO4NkSBvzUy+PQMkOXiWbIx0Ggi9eG90Q8N3+us4b7W3b5Ljb1b00g5sp\n",
            "pkKz1pu/Z+ciGu3IBbFz+I1HmsmY1ejO8lUYCAB42EFKu9moVo8n/8GSVsmF9WA3\n",
            "C3gaC0WXW9pTssxoys5YD0fJ3x1YAa4iFthc44WPVZn86FSVheewh7xfNonXLovJ\n",
            "WQIuFon4xW0bBNesVdGEEtCWEJgF87bmL88ZRZK9GEjyf+v5Ew067LUeUVt7FFiu\n",
            "09c4tuI7wCUW4ixf2dG5AQ0ETL21xQEIANhwKBAIIXVZRKftz9Vc2+CZfO+/eVVf\n",
            "1aRXhB2lwleK1eCVd1NnBXEa/cDEO5osTDFbutuopE/NY2OPjFMfG3Zi1SMT6YtX\n",
            "nwAVpBBTdqV1gbwk+vZ6iEw1mqnYEbah1zPDl5o7mXkROMLWcdSMNSby6zdNXcBc\n",
            "5qMCOC4a+kbcMqfH+Ca52swFVIAQTriR5/IGZJHrzfOReHD42BtMgP1dbU5KoT58\n",
            "tB/RnNASiMx19gh5XxDmwwCZTcn0B2WnIOtlphGaKmGDDw9lMxqGHP+joHPunpWo\n",
            "Dg1yavbbmee0iyNRTPSIrpOxo6L0qsXbdHD4gNQl5iR1VvAapq+AkbUAEQEAAYkB\n",
            "PAQYAQoAJgIbDBYhBOKYo6glwNZd/VfLtlFxZhnghNq5BQJfdcYKBQkf4HjFAAoJ\n",
            "EFFxZhnghNq5J2MH/13zMlB45Qire0mklv3z/Q0HVHTgV8QTRWNdb2GTOQAWQjJZ\n",
            "rupkz/MlwmFejoSJo1uM/Dhb19PNnLyVQ7onHBd7+aeKJ+Tbzlw2dHkgjO3bkRVF\n",
            "VBg0U2xg5a7NXlqSoaAzWi+py6bQR+Qj1AIbZNL9s24LSUfazPc2hO7TsNQoOUCG\n",
            "BQ8zvot2oRXOe/4lOmjaYFTb13KXr5ozrKzkm66p07QM5lXmrdsgterKUDdf00+z\n",
            "EXG+vo+j5qnz77TghahivkZip3FwW5APP+/8fWrQRSMzBToFWGZuLri4uef+P/7D\n",
            "2jiqon7LxHKcTkL+MajTgwrtuH5bI7hL2445uew=\n",
            "=xbQ3\n",
            "-----END PGP PUBLIC KEY BLOCK-----\n",
            "Executing: /tmp/apt-key-gpghome.N48bqiur3h/gpg.1.sh --keyserver keyserver.ubuntu.com --recv-keys 67C2D66C4B1D4339 51716619E084DAB9\n",
            "46 packages can be upgraded. Run 'apt list --upgradable' to see them.\n",
            "Reading package lists...\n",
            "Building dependency tree...\n",
            "Reading state information...\n",
            "r-base-core is already the newest version (4.4.1-1.2204.0).\n",
            "0 upgraded, 0 newly installed, 0 to remove and 46 not upgraded.\n",
            "Reading package lists...\n",
            "Building dependency tree...\n",
            "Reading state information...\n",
            "make is already the newest version (4.3-4.1build1).\n",
            "make set to manually installed.\n",
            "python3-dbus is already the newest version (1.2.18-3build1).\n",
            "python3-dbus set to manually installed.\n",
            "python3-apt is already the newest version (2.4.0ubuntu3).\n",
            "python3-apt set to manually installed.\n",
            "python3-gi is already the newest version (3.42.1-0ubuntu1).\n",
            "python3-gi set to manually installed.\n",
            "0 upgraded, 0 newly installed, 0 to remove and 46 not upgraded.\n",
            "* installing /usr/share/dbus-1/system-services/org.r_project.linux1.service\n",
            "* installing /etc/dbus-1/system.d/org.r_project.linux1.conf"
          ]
        },
        {
          "output_type": "stream",
          "name": "stderr",
          "text": [
            "Tracing function \"install.packages\" in package \"utils\"\n",
            "\n"
          ]
        }
      ]
    },
    {
      "cell_type": "code",
      "source": [
        "## Install the R packages\n",
        "cranPkgs2Install = c(\"BiocManager\")\n",
        "install.packages(cranPkgs2Install, ask=FALSE, update=TRUE, quietly=TRUE)\n",
        "system(\"sudo apt install libgsl-dev\")\n",
        "BiocManager::install(\"scRepertoire\")\n",
        "install.packages('Seurat')\n",
        "BiocManager::install(\"scater\")"
      ],
      "metadata": {
        "colab": {
          "base_uri": "https://localhost:8080/"
        },
        "id": "uM0Ad69Fd_O2",
        "outputId": "8494710e-3ab0-4c3a-a59f-adf66f7872d9"
      },
      "execution_count": 2,
      "outputs": [
        {
          "output_type": "stream",
          "name": "stderr",
          "text": [
            "'getOption(\"repos\")' replaces Bioconductor standard repositories, see\n",
            "'help(\"repositories\", package = \"BiocManager\")' for details.\n",
            "Replacement repositories:\n",
            "    CRAN: https://cran.rstudio.com\n",
            "\n",
            "Bioconductor version 3.19 (BiocManager 1.30.23), R 4.4.1 (2024-06-14)\n",
            "\n",
            "Installing package(s) 'BiocVersion', 'scRepertoire'\n",
            "\n",
            "'getOption(\"repos\")' replaces Bioconductor standard repositories, see\n",
            "'help(\"repositories\", package = \"BiocManager\")' for details.\n",
            "Replacement repositories:\n",
            "    CRAN: https://cran.rstudio.com\n",
            "\n",
            "Bioconductor version 3.19 (BiocManager 1.30.23), R 4.4.1 (2024-06-14)\n",
            "\n",
            "Installing package(s) 'scater'\n",
            "\n"
          ]
        }
      ]
    },
    {
      "cell_type": "code",
      "source": [
        "## To simplify package loading, we created the loadPackages()\n",
        "## function. But, if you don't have the function, you should\n",
        "## use 'library(name_of_package)'\n",
        "loadPackages = function(pkgs){\n",
        "  myrequire = function(...){\n",
        "    suppressWarnings(suppressMessages(suppressPackageStartupMessages(require(...))))\n",
        "  }\n",
        "  ok = sapply(pkgs, require, character.only=TRUE, quietly=TRUE)\n",
        "  if (!all(ok)){\n",
        "    message(\"There are missing packages: \", paste(pkgs[!ok], collapse=\", \"))\n",
        "  }\n",
        "}\n",
        "\n",
        "pkgs = c(\"Seurat\", \"tidyverse\", \"scRepertoire\", \"scater\")\n",
        "loadPackages(pkgs)"
      ],
      "metadata": {
        "id": "ilDB9QTaKOJ8",
        "colab": {
          "base_uri": "https://localhost:8080/"
        },
        "outputId": "7f6765d9-06d3-46b7-ff2e-e1cef7705277"
      },
      "execution_count": 3,
      "outputs": [
        {
          "output_type": "stream",
          "name": "stderr",
          "text": [
            "‘SeuratObject’ was built under R 4.4.0 but the current version is\n",
            "4.4.1; it is recomended that you reinstall ‘SeuratObject’ as the ABI\n",
            "for R may have changed\n",
            "\n",
            "\n",
            "Attaching package: ‘SeuratObject’\n",
            "\n",
            "\n",
            "The following objects are masked from ‘package:base’:\n",
            "\n",
            "    intersect, t\n",
            "\n",
            "\n",
            "── \u001b[1mAttaching core tidyverse packages\u001b[22m ──────────────────────── tidyverse 2.0.0 ──\n",
            "\u001b[32m✔\u001b[39m \u001b[34mdplyr    \u001b[39m 1.1.4     \u001b[32m✔\u001b[39m \u001b[34mreadr    \u001b[39m 2.1.5\n",
            "\u001b[32m✔\u001b[39m \u001b[34mforcats  \u001b[39m 1.0.0     \u001b[32m✔\u001b[39m \u001b[34mstringr  \u001b[39m 1.5.1\n",
            "\u001b[32m✔\u001b[39m \u001b[34mggplot2  \u001b[39m 3.5.1     \u001b[32m✔\u001b[39m \u001b[34mtibble   \u001b[39m 3.2.1\n",
            "\u001b[32m✔\u001b[39m \u001b[34mlubridate\u001b[39m 1.9.3     \u001b[32m✔\u001b[39m \u001b[34mtidyr    \u001b[39m 1.3.1\n",
            "\u001b[32m✔\u001b[39m \u001b[34mpurrr    \u001b[39m 1.0.2     \n",
            "── \u001b[1mConflicts\u001b[22m ────────────────────────────────────────── tidyverse_conflicts() ──\n",
            "\u001b[31m✖\u001b[39m \u001b[34mdplyr\u001b[39m::\u001b[32mfilter()\u001b[39m masks \u001b[34mstats\u001b[39m::filter()\n",
            "\u001b[31m✖\u001b[39m \u001b[34mdplyr\u001b[39m::\u001b[32mlag()\u001b[39m    masks \u001b[34mstats\u001b[39m::lag()\n",
            "\u001b[36mℹ\u001b[39m Use the conflicted package (\u001b[3m\u001b[34m<http://conflicted.r-lib.org/>\u001b[39m\u001b[23m) to force all conflicts to become errors\n",
            "\n",
            "Attaching package: ‘matrixStats’\n",
            "\n",
            "\n",
            "The following object is masked from ‘package:dplyr’:\n",
            "\n",
            "    count\n",
            "\n",
            "\n",
            "\n",
            "Attaching package: ‘MatrixGenerics’\n",
            "\n",
            "\n",
            "The following objects are masked from ‘package:matrixStats’:\n",
            "\n",
            "    colAlls, colAnyNAs, colAnys, colAvgsPerRowSet, colCollapse,\n",
            "    colCounts, colCummaxs, colCummins, colCumprods, colCumsums,\n",
            "    colDiffs, colIQRDiffs, colIQRs, colLogSumExps, colMadDiffs,\n",
            "    colMads, colMaxs, colMeans2, colMedians, colMins, colOrderStats,\n",
            "    colProds, colQuantiles, colRanges, colRanks, colSdDiffs, colSds,\n",
            "    colSums2, colTabulates, colVarDiffs, colVars, colWeightedMads,\n",
            "    colWeightedMeans, colWeightedMedians, colWeightedSds,\n",
            "    colWeightedVars, rowAlls, rowAnyNAs, rowAnys, rowAvgsPerColSet,\n",
            "    rowCollapse, rowCounts, rowCummaxs, rowCummins, rowCumprods,\n",
            "    rowCumsums, rowDiffs, rowIQRDiffs, rowIQRs, rowLogSumExps,\n",
            "    rowMadDiffs, rowMads, rowMaxs, rowMeans2, rowMedians, rowMins,\n",
            "    rowOrderStats, rowProds, rowQuantiles, rowRanges, rowRanks,\n",
            "    rowSdDiffs, rowSds, rowSums2, rowTabulates, rowVarDiffs, rowVars,\n",
            "    rowWeightedMads, rowWeightedMeans, rowWeightedMedians,\n",
            "    rowWeightedSds, rowWeightedVars\n",
            "\n",
            "\n",
            "\n",
            "Attaching package: ‘BiocGenerics’\n",
            "\n",
            "\n",
            "The following objects are masked from ‘package:lubridate’:\n",
            "\n",
            "    intersect, setdiff, union\n",
            "\n",
            "\n",
            "The following objects are masked from ‘package:dplyr’:\n",
            "\n",
            "    combine, intersect, setdiff, union\n",
            "\n",
            "\n",
            "The following object is masked from ‘package:SeuratObject’:\n",
            "\n",
            "    intersect\n",
            "\n",
            "\n",
            "The following objects are masked from ‘package:stats’:\n",
            "\n",
            "    IQR, mad, sd, var, xtabs\n",
            "\n",
            "\n",
            "The following objects are masked from ‘package:base’:\n",
            "\n",
            "    anyDuplicated, aperm, append, as.data.frame, basename, cbind,\n",
            "    colnames, dirname, do.call, duplicated, eval, evalq, Filter, Find,\n",
            "    get, grep, grepl, intersect, is.unsorted, lapply, Map, mapply,\n",
            "    match, mget, order, paste, pmax, pmax.int, pmin, pmin.int,\n",
            "    Position, rank, rbind, Reduce, rownames, sapply, setdiff, table,\n",
            "    tapply, union, unique, unsplit, which.max, which.min\n",
            "\n",
            "\n",
            "\n",
            "Attaching package: ‘S4Vectors’\n",
            "\n",
            "\n",
            "The following objects are masked from ‘package:lubridate’:\n",
            "\n",
            "    second, second<-\n",
            "\n",
            "\n",
            "The following objects are masked from ‘package:dplyr’:\n",
            "\n",
            "    first, rename\n",
            "\n",
            "\n",
            "The following object is masked from ‘package:tidyr’:\n",
            "\n",
            "    expand\n",
            "\n",
            "\n",
            "The following object is masked from ‘package:utils’:\n",
            "\n",
            "    findMatches\n",
            "\n",
            "\n",
            "The following objects are masked from ‘package:base’:\n",
            "\n",
            "    expand.grid, I, unname\n",
            "\n",
            "\n",
            "\n",
            "Attaching package: ‘IRanges’\n",
            "\n",
            "\n",
            "The following object is masked from ‘package:lubridate’:\n",
            "\n",
            "    %within%\n",
            "\n",
            "\n",
            "The following objects are masked from ‘package:dplyr’:\n",
            "\n",
            "    collapse, desc, slice\n",
            "\n",
            "\n",
            "The following object is masked from ‘package:purrr’:\n",
            "\n",
            "    reduce\n",
            "\n",
            "\n",
            "The following object is masked from ‘package:sp’:\n",
            "\n",
            "    %over%\n",
            "\n",
            "\n",
            "Welcome to Bioconductor\n",
            "\n",
            "    Vignettes contain introductory material; view with\n",
            "    'browseVignettes()'. To cite Bioconductor, see\n",
            "    'citation(\"Biobase\")', and for packages 'citation(\"pkgname\")'.\n",
            "\n",
            "\n",
            "\n",
            "Attaching package: ‘Biobase’\n",
            "\n",
            "\n",
            "The following object is masked from ‘package:MatrixGenerics’:\n",
            "\n",
            "    rowMedians\n",
            "\n",
            "\n",
            "The following objects are masked from ‘package:matrixStats’:\n",
            "\n",
            "    anyMissing, rowMedians\n",
            "\n",
            "\n",
            "\n",
            "Attaching package: ‘SummarizedExperiment’\n",
            "\n",
            "\n",
            "The following object is masked from ‘package:Seurat’:\n",
            "\n",
            "    Assays\n",
            "\n",
            "\n",
            "The following object is masked from ‘package:SeuratObject’:\n",
            "\n",
            "    Assays\n",
            "\n",
            "\n"
          ]
        }
      ]
    },
    {
      "cell_type": "code",
      "source": [
        "# Download this file to your computer:\n",
        "# https://drive.usercontent.google.com/download?id=1_YuRraDyg8UgF3oasjF0-jgPnwox-B24&export=download&authuser=0\"\n",
        "# and then open the folder icon on the left and drag the file there.\n",
        "# It will appear on the bottom left (\"scRep_example_full.rds\") with a circle next to it\n",
        "# that indicates upload progress. The full upload will take a few minutes, wait until it is complete."
      ],
      "metadata": {
        "id": "D56SpXrQHqVC"
      },
      "execution_count": 4,
      "outputs": []
    },
    {
      "cell_type": "markdown",
      "source": [
        "# Introduction\n",
        "\n",
        "<img src=\"https://camo.githubusercontent.com/f37d3bd3ae082e6e4c9765361d3bf44a4912f909bd701782753484ea4dd1c12e/68747470733a2f2f7777772e626f7263682e6465762f75706c6f6164732f73637265706572746f6972652f7265666572656e63652f666967757265732f73637265706572746f6972655f6865782e706e67\" alt=\"drawing\" width=\"200\"/>\n",
        "\n",
        "Single-cell sequencing is an emerging technology in the field of immunology and oncology that allows researchers to couple RNA quantification and other modalities, like immune cell receptor profiling at the level of an individual cell. A number of workflows and software packages have been created to process and analyze single-cell transcriptomic data. These packages allow users to take the vast dimensionality of the data generated in single-cell-based experiments and distill the data into novel insights. Unlike the transcriptomic field, there is a lack of options for software that allow for single-cell immune receptor profiling. Enabling users to easily combine RNA and immune profiling, the [scRepertoire](https://www.borch.dev/uploads/screpertoire/) framework supports use of 10x, AIRR, BD, MiXCR, Omniscope, TRUST4, and WAT3R single-cell clonal formats and interaction with popular R-based single-cell data pipelines.\n",
        "\n",
        "Our tutorial below was adapted from the scRepertoire vignettes.\n"
      ],
      "metadata": {
        "id": "7CLlPiV5eh9h"
      }
    },
    {
      "cell_type": "markdown",
      "source": [
        "# What data to load into scRepertoire?\n",
        "scRepertoire functions using the filtered_contig_annotations.csv output from the 10x Genomics Cell Ranger. This file is located in the ./outs/ directory of the VDJ alignment folder. To generate a list of contigs to use for scRepertoire:\n",
        "\n",
        "load the filtered_contig_annotations.csv for each of the samples.\n",
        "make a list in the R environment.\n",
        "\n",
        "\n",
        "```\n",
        "\n",
        "S1 <- read.csv(\".../Sample1/outs/filtered_contig_annotations.csv\")\n",
        "S2 <- read.csv(\".../Sample2/outs/filtered_contig_annotations.csv\")\n",
        "S3 <- read.csv(\".../Sample3/outs/filtered_contig_annotations.csv\")\n",
        "S4 <- read.csv(\".../Sample4/outs/filtered_contig_annotations.csv\")\n",
        "\n",
        "contig_list <- list(S1, S2, S3, S4)\n",
        "\n",
        "\n",
        "```\n",
        "\n",
        "## Other alignment workflows\n",
        "Beyond the default 10x Genomic Cell Ranger pipeline outputs, scRepertoire supports the following single-cell formats:\n",
        "\n",
        "AIRR\n",
        "BD Rhapsody Multiomic Immune Profiling\n",
        "Immcantation\n",
        "JSON-formatted contig data\n",
        "MiXCR\n",
        "Omniscope OS-T/OS-B\n",
        "Parse Evercode TCR/BCR\n",
        "TRUST4\n",
        "WAT3R\n",
        "loadContigs() can be given a directory where the sequencing experiments are located and it will recursively load and process the contig data based on the file names. Alternatively, loadContigs() can be given a list of data frames and process the contig data\n",
        "\n",
        "\n",
        "\n",
        "```\n",
        "#Directory example\n",
        "contig.output <- c(\"~/Documents/MyExperiment\")\n",
        "contig.list <- loadContigs(input = contig.output,\n",
        "                           format = \"TRUST4\")\n",
        "\n",
        "#List of data frames example\n",
        "S1 <- read.csv(\"~/Documents/MyExperiment/Sample1/outs/barcode_results.csv\")\n",
        "S2 <- read.csv(\"~/Documents/MyExperiment/Sample2/outs/barcode_results.csv\")\n",
        "S3 <- read.csv(\"~/Documents/MyExperiment/Sample3/outs/barcode_results.csv\")\n",
        "S4 <- read.csv(\"~/Documents/MyExperiment/Sample4/outs/barcode_results.csv\")\n",
        "\n",
        "contig_list <- list(S1, S2, S3, S4)\n",
        "contig.list <- loadContigs(input = contig.output,\n",
        "                           format = \"WAT3R\")\n",
        "```\n",
        "\n"
      ],
      "metadata": {
        "id": "WslKOmsPMj4O"
      }
    },
    {
      "cell_type": "markdown",
      "source": [
        "# Example TCR Data in scRepertoire\n",
        "\n",
        "scRepertoire comes with a data set from T cells derived from four patients with acute respiratory distress to demonstrate the functionality of the R package. More information on the data set can be found in the corresponding manuscript. The samples consist of paired peripheral-blood (B) and bronchoalveolar lavage (L), effectively creating 8 distinct runs for T cell receptor (TCR) enrichment. We can preview the elements in the list by using the head function and looking at the first contig annotation.\n",
        "\n",
        "The built-in example data is derived from the 10x Cell Ranger pipeline, so it is ready to go for downstream processing and analysis."
      ],
      "metadata": {
        "id": "Z-dhUVqZMNUu"
      }
    },
    {
      "cell_type": "markdown",
      "source": [
        "Check that the uploaded file is in the correct folder and appears here. Note: it will already appear during upload, but you have to wait for upload to complete to then load it."
      ],
      "metadata": {
        "id": "TSY62q2qd_2v"
      }
    },
    {
      "cell_type": "code",
      "source": [
        "list.files(path = \".\")"
      ],
      "metadata": {
        "colab": {
          "base_uri": "https://localhost:8080/",
          "height": 34
        },
        "id": "_fqysDqBGjXB",
        "outputId": "4c6c52f0-10c8-4c70-f54d-6b70b61c59a2"
      },
      "execution_count": 5,
      "outputs": [
        {
          "output_type": "display_data",
          "data": {
            "text/html": [
              "'sample_data'"
            ],
            "text/markdown": "'sample_data'",
            "text/latex": "'sample\\_data'",
            "text/plain": [
              "[1] \"sample_data\""
            ]
          },
          "metadata": {}
        }
      ]
    },
    {
      "cell_type": "code",
      "source": [
        " scRep_example <- readRDS(\"scRep_example_full.rds\")"
      ],
      "metadata": {
        "id": "F2EaPIRlcqBJ",
        "colab": {
          "base_uri": "https://localhost:8080/",
          "height": 162
        },
        "outputId": "86c0538f-25fd-43b7-c4b5-da0b0e336c98"
      },
      "execution_count": 6,
      "outputs": [
        {
          "output_type": "stream",
          "name": "stderr",
          "text": [
            "Warning message in gzfile(file, \"rb\"):\n",
            "“cannot open compressed file 'scRep_example_full.rds', probable reason 'No such file or directory'”\n"
          ]
        },
        {
          "output_type": "error",
          "ename": "ERROR",
          "evalue": "Error in gzfile(file, \"rb\"): cannot open the connection\n",
          "traceback": [
            "Error in gzfile(file, \"rb\"): cannot open the connection\nTraceback:\n",
            "1. readRDS(\"scRep_example_full.rds\")",
            "2. gzfile(file, \"rb\")"
          ]
        }
      ]
    },
    {
      "cell_type": "code",
      "source": [
        "scRep_example"
      ],
      "metadata": {
        "id": "wxUgjqsneNv4"
      },
      "execution_count": null,
      "outputs": []
    },
    {
      "cell_type": "markdown",
      "source": [
        "# Combining Contigs into Clones\n",
        "There are varying definitions of clones or clones in the literature. For the purposes of scRepertoire, we will use clone and define this as the cells with shared/trackable complementarity-determining region 3 (CDR3) sequences. Within this definition, one might use amino acid (aa) sequences of one or both chains to define a clone. Alternatively, we could use nucleotide (nt) or the V(D)JC genes (genes) to define a clone. The latter genes would be a more permissive definition of “clones”, as multiple amino acid or nucleotide sequences can result from the same gene combination. Another option to define clone is the use of the V(D)JC and nucleotide sequence (strict). scRepertoire allows for the use of all these definitions of clones and allows for users to select both or individual chains to examine."
      ],
      "metadata": {
        "id": "UCbpyvz7NKeE"
      }
    },
    {
      "cell_type": "markdown",
      "source": [
        "## combineTCR\n",
        "The output of combineTCR() will be a list of contig data frames that will be reduced to the reads associated with a single cell barcode. It will also combine the multiple reads into clone calls by either the nucleotide sequence (CTnt), amino acid sequence (CTaa), the VDJC gene sequence (CTgene), or the combination of the nucleotide and gene sequence (CTstrict).\n",
        "\n"
      ],
      "metadata": {
        "id": "H-iW1uNJNk-7"
      }
    },
    {
      "cell_type": "code",
      "source": [
        "combined.TCR <- combineTCR(contig_list,\n",
        "                           samples = c(\"P17B\", \"P17L\", \"P18B\", \"P18L\",\n",
        "                            \"P19B\",\"P19L\", \"P20B\", \"P20L\"),\n",
        "                           removeNA = FALSE,\n",
        "                           removeMulti = FALSE,\n",
        "                           filterMulti = FALSE)\n",
        "\n",
        "head(combined.TCR[[1]])"
      ],
      "metadata": {
        "id": "EUkmuJy4Nj_5"
      },
      "execution_count": null,
      "outputs": []
    },
    {
      "cell_type": "code",
      "source": [
        "tail(combined.TCR[[1]])"
      ],
      "metadata": {
        "id": "OAggz1pge_Co"
      },
      "execution_count": null,
      "outputs": []
    },
    {
      "cell_type": "markdown",
      "source": [
        "## combineBCR\n",
        "combineBCR() is analogous to combineTCR() with 2 major changes:\n",
        "\n",
        "\n",
        "1.  Each barcode can only have a maximum of 2 sequences, if greater exists, the 2 with the highest reads are selected;\n",
        "2.  The strict definition of a clone is based on the normalized Levenshtein edit distance of CDR3 nucleotide sequences and V-gene usage. For more information on this approach, please see the respective citation. This definition allows for the grouping of BCRs derived from the same progenitor that have undergone mutation as part of somatic hypermutation and affinity\n",
        "maturation.\n"
      ],
      "metadata": {
        "id": "iQmtueojN48V"
      }
    },
    {
      "cell_type": "code",
      "source": [
        "BCR.contigs <- read.csv(\"https://www.borch.dev/uploads/contigs/b_contigs.csv\")\n",
        "combined.BCR <- combineBCR(BCR.contigs,\n",
        "                           samples = \"P1\",\n",
        "                           threshold = 0.85) #the level of similarity in sequences to group together. Default is 0.85.\n",
        "\n",
        "head(combined.BCR[[1]])"
      ],
      "metadata": {
        "id": "yfvNZDX5NupP"
      },
      "execution_count": null,
      "outputs": []
    },
    {
      "cell_type": "code",
      "source": [
        "tail(combined.BCR[[1]])"
      ],
      "metadata": {
        "id": "_Heu8DiqDr_G"
      },
      "execution_count": null,
      "outputs": []
    },
    {
      "cell_type": "markdown",
      "source": [
        "# (optional) subsetClones\n",
        "Likewise, we can remove specific list elements after combineTCR() using the subsetClones() function. In order to subset, we need to identify the vector we would like to use for subsetting (name) and the variable values to subset (variables). Below, we isolate just the 2 sequencing results from P18L and P18B."
      ],
      "metadata": {
        "id": "ucJj9TEqO7T1"
      }
    },
    {
      "cell_type": "code",
      "source": [
        "subset1 <- subsetClones(combined.BCR,\n",
        "                        name = \"sample\",\n",
        "                        variables = c(\"P1\"))\n",
        "\n",
        "head(subset1[[1]])"
      ],
      "metadata": {
        "id": "iaWrRaXSOMol"
      },
      "execution_count": null,
      "outputs": []
    },
    {
      "cell_type": "markdown",
      "source": [
        "# clonalQuant\n",
        "\n",
        "The first function to explore the clones is clonalQuant() to return the total or relative numbers of unique clones.\n",
        "\n",
        "**scale**\n",
        "\n",
        "\n",
        "*   TRUE - relative percent of unique clones scaled by the total size of the clonal repertoire.\n",
        "*   FALSE - Report the total number of unique clones (default).\n",
        "\n",
        "**chain**\n",
        "\n",
        "\n",
        "*   “both” for combined chain visualization\n",
        "*   “TRA”, “TRB”, “TRD”, “TRG”, “IGH” or “IGL” to select single chain\n"
      ],
      "metadata": {
        "id": "AqpuZbcNPZ1C"
      }
    },
    {
      "cell_type": "code",
      "source": [
        "clonalQuant(combined.TCR,\n",
        "            cloneCall=\"strict\",\n",
        "            chain = \"both\",\n",
        "            scale = TRUE)\n"
      ],
      "metadata": {
        "id": "eqzoQKWUPlVV"
      },
      "execution_count": null,
      "outputs": []
    },
    {
      "cell_type": "code",
      "source": [
        "clonalQuant(combined.BCR,\n",
        "            cloneCall=\"strict\",\n",
        "            chain = \"both\",\n",
        "            scale = TRUE)\n"
      ],
      "metadata": {
        "id": "BOXJTJRzfHiL"
      },
      "execution_count": null,
      "outputs": []
    },
    {
      "cell_type": "markdown",
      "source": [
        "Another option here is to be able to define the visualization by data classes. Here, we used the combineTCR() list to define the Type variable as part of the naming structure. We can use the group.by to specifically use a column in the data set to organize the visualization.\n",
        "\n"
      ],
      "metadata": {
        "id": "XypPTWDMQtgp"
      }
    },
    {
      "cell_type": "code",
      "source": [
        "#add the Type in which the samples were processed and sequenced.\n",
        "combined.TCR <- addVariable(combined.TCR,\n",
        "                            variable.name = \"Type\",\n",
        "                            variables = rep(c(\"B\", \"L\"), 4))\n",
        "\n",
        "clonalQuant(combined.TCR, cloneCall = \"gene\", group.by = \"Type\", scale = TRUE)"
      ],
      "metadata": {
        "id": "3-EJyG0iQ2XZ"
      },
      "execution_count": null,
      "outputs": []
    },
    {
      "cell_type": "markdown",
      "source": [
        "# clonalLength\n",
        "We can look at the length distribution of the CDR3 sequences by calling the lengtheContig() function. Importantly, unlike the other basic visualizations, the cloneCall can only be “nt” or “aa”. Due to the method of calling clones as outlined above, the length should reveal a multimodal curve, this is a product of using the NA for the unreturned chain sequence and multiple chains within a single barcode.\n",
        "\n",
        "**chain**\n",
        "\n",
        "\n",
        "*   “both” for combined chain visualization\n",
        "*   “TRA”, “TRB”, “TRD”, “TRG”, “IGH” or “IGL” to select single chain\n",
        "\n",
        "\n",
        "\n",
        "\n"
      ],
      "metadata": {
        "id": "nXHjwPxxRQq8"
      }
    },
    {
      "cell_type": "code",
      "source": [
        "clonalLength(combined.TCR,\n",
        "             cloneCall=\"aa\",\n",
        "             chain = \"both\")"
      ],
      "metadata": {
        "id": "Mhzzp_ZIRXz6"
      },
      "execution_count": null,
      "outputs": []
    },
    {
      "cell_type": "code",
      "source": [
        "clonalLength(combined.TCR,\n",
        "             cloneCall=\"aa\",\n",
        "             chain = \"TRA\",\n",
        "             scale = TRUE)\n"
      ],
      "metadata": {
        "id": "2ZuVGCtURb-j"
      },
      "execution_count": null,
      "outputs": []
    },
    {
      "cell_type": "markdown",
      "source": [
        "# clonalCompare\n",
        "We can also look at clones between samples and changes in dynamics by using the clonalCompare() function."
      ],
      "metadata": {
        "id": "7POf1m15RfZ2"
      }
    },
    {
      "cell_type": "code",
      "source": [
        "clonalCompare(combined.TCR,\n",
        "                  top.clones = 10,\n",
        "                  samples = c(\"P17B\", \"P17L\"),\n",
        "                  cloneCall=\"aa\",\n",
        "                  graph = \"alluvial\")"
      ],
      "metadata": {
        "id": "iv7VL8qFRi_M"
      },
      "execution_count": null,
      "outputs": []
    },
    {
      "cell_type": "markdown",
      "source": [
        "We can also choose to highlight specific clones"
      ],
      "metadata": {
        "id": "NbEEIj5_R2U0"
      }
    },
    {
      "cell_type": "code",
      "source": [
        "clonalCompare(combined.TCR,\n",
        "              top.clones = 10,\n",
        "              highlight.clones = c(\"CVVSDNTGGFKTIF_CASSVRRERANTGELFF\", \"NA_CASSVRRERANTGELFF\"),\n",
        "              relabel.clones = TRUE,\n",
        "              samples = c(\"P17B\", \"P17L\"),\n",
        "              cloneCall=\"aa\",\n",
        "              graph = \"alluvial\")"
      ],
      "metadata": {
        "id": "qxvUhrIqRxzg"
      },
      "execution_count": null,
      "outputs": []
    },
    {
      "cell_type": "code",
      "source": [
        "# show only specific clones\n",
        "clonalCompare(combined.TCR, clones = c(\"CVVSDNTGGFKTIF_CASSVRRERANTGELFF\", \"NA_CASSVRRERANTGELFF\"),\n",
        "    relabel.clones = TRUE, samples = c(\"P17B\", \"P17L\"), cloneCall = \"aa\", graph = \"alluvial\")"
      ],
      "metadata": {
        "id": "BNa3QtYqR4Sw"
      },
      "execution_count": null,
      "outputs": []
    },
    {
      "cell_type": "markdown",
      "source": [
        "# Visualizing Clonal Dynamics\n",
        "## clonalHomeostasis\n",
        "By examining the clonal space, we effectively look at the relative space occupied by clones at specific proportions. Another way to think about this would be to think of the total immune receptor sequencing run as a measuring cup. In this cup, we will fill liquids of different viscosity - or different numbers of clonal proportions. Clonal space homeostasis asks what percentage of the cup is filled by clones in distinct proportions (or liquids of different viscosity, to extend the analogy). The proportional cut points are set under the cloneSize variable in the function and can be adjusted."
      ],
      "metadata": {
        "id": "ZylutihnSTQw"
      }
    },
    {
      "cell_type": "code",
      "source": [
        "clonalHomeostasis(combined.TCR,\n",
        "                  cloneCall = \"gene\",\n",
        "                  cloneSize = c(Rare = 0.001, Small = 0.01, Medium = 0.1, Large = 0.3, Hyperexpanded =\n",
        "    1))"
      ],
      "metadata": {
        "id": "H7XJ3UgEStgL"
      },
      "execution_count": null,
      "outputs": []
    },
    {
      "cell_type": "code",
      "source": [
        "clonalHomeostasis(combined.BCR,\n",
        "                  cloneCall = \"gene\",\n",
        "                  cloneSize = c(Rare = 0.001, Small = 0.01, Medium = 0.1, Large = 0.3, Hyperexpanded =\n",
        "    1))"
      ],
      "metadata": {
        "id": "hzC8JzT8geC6"
      },
      "execution_count": null,
      "outputs": []
    },
    {
      "cell_type": "markdown",
      "source": [
        "# clonalProportion\n",
        "Like clonal space homeostasis above, clonal proportion places clones into separate bins. The key difference is that instead of looking at the relative proportion of the clone to the total, the clonalProportion() function will rank the clones by total number and place them into bins.\n",
        "\n",
        "The clonalSplit represents the ranking of clonotypes by copy or frequency of occurrence, meaning 1:10 are the top 10 clonotypes in each sample. The default bins are under the clonalSplit variable in the function and can be adjusted, but they are as follows at baseline.\n",
        "\n",
        "**clonalSplit**\n",
        "\n",
        "*   10\n",
        "*   100\n",
        "*   1000\n",
        "*   10000\n",
        "*   30000\n",
        "*   100000\n"
      ],
      "metadata": {
        "id": "wnPk1Dg3TXsa"
      }
    },
    {
      "cell_type": "code",
      "source": [
        "clonalProportion(combined.TCR,\n",
        "                 cloneCall = \"gene\")"
      ],
      "metadata": {
        "id": "_CYbUaUVTnMG"
      },
      "execution_count": null,
      "outputs": []
    },
    {
      "cell_type": "code",
      "source": [
        "clonalProportion(combined.BCR,\n",
        "                 cloneCall = \"gene\")"
      ],
      "metadata": {
        "id": "Ip7QeTbBghr2"
      },
      "execution_count": null,
      "outputs": []
    },
    {
      "cell_type": "code",
      "source": [
        "clonalProportion(combined.TCR,\n",
        "                 cloneCall = \"nt\",\n",
        "                 clonalSplit = c(1, 5, 10, 100, 1000, 10000))"
      ],
      "metadata": {
        "id": "9lwOxf_zTr6g"
      },
      "execution_count": null,
      "outputs": []
    },
    {
      "cell_type": "code",
      "source": [
        "clonalProportion(combined.BCR,\n",
        "                 cloneCall = \"nt\",\n",
        "                 clonalSplit = c(1, 5, 10, 100, 1000, 10000))"
      ],
      "metadata": {
        "id": "bwfVoVM7gjte"
      },
      "execution_count": null,
      "outputs": []
    },
    {
      "cell_type": "markdown",
      "source": [
        "# Summarizing Repertoires\n",
        "## percentAA\n",
        "Quantify the proportion of amino acids along the cdr3 sequence with percentAA(). By default, the function will pad the sequences with NAs up to the maximum of aa.length. Sequences longer than aa.length will be removed before visualization (default aa.length = 20).\n",
        "\n"
      ],
      "metadata": {
        "id": "0K8S2shoT97l"
      }
    },
    {
      "cell_type": "code",
      "source": [
        "percentAA(combined.TCR,\n",
        "          chain = \"TRB\",\n",
        "          aa.length = 20)"
      ],
      "metadata": {
        "id": "wQhp0ubBULzf"
      },
      "execution_count": null,
      "outputs": []
    },
    {
      "cell_type": "markdown",
      "source": [
        "##positionalEntropy\n",
        "We can also quantify the level of entropy/diversity across amino acid residues along the cdr3 sequence. positionalEntropy() combines the quantification by residue of percentAA() with the diversity calls in clonalDiversity().\n",
        "\n",
        "**method**:\n",
        "\n",
        "“shannon” - Shannon Diversity; “inv.simpson” - Inverse Simpson Diversity;\n",
        "“norm.entropy” - Normalized Entropy\n"
      ],
      "metadata": {
        "id": "PYsPTCvGUErY"
      }
    },
    {
      "cell_type": "code",
      "source": [
        "positionalEntropy(combined.TCR,\n",
        "                  chain = \"TRB\",\n",
        "                  aa.length = 20)"
      ],
      "metadata": {
        "id": "yDcIoFGdULFh"
      },
      "execution_count": null,
      "outputs": []
    },
    {
      "cell_type": "code",
      "source": [
        "positionalEntropy(combined.BCR,\n",
        "                  chain = \"both\",\n",
        "                  aa.length = 20)"
      ],
      "metadata": {
        "id": "iV-2_aglgujj"
      },
      "execution_count": null,
      "outputs": []
    },
    {
      "cell_type": "markdown",
      "source": [
        "## vizGenes\n",
        "A visualization of the relative usage of genes of the TCR or BCR, using vizGenes(). vizGenes() is more adaptable to allow for comparisons across chains, scaling, etc, compared to other methods in the package like percentGenes() and percentVJ()"
      ],
      "metadata": {
        "id": "_Jf4mvchUpMq"
      }
    },
    {
      "cell_type": "code",
      "source": [
        "vizGenes(combined.TCR,\n",
        "         x.axis = \"TRBV\",\n",
        "         y.axis = NULL,\n",
        "         plot = \"barplot\",\n",
        "         scale = TRUE)"
      ],
      "metadata": {
        "id": "6OMu3I7yUw0R"
      },
      "execution_count": null,
      "outputs": []
    },
    {
      "cell_type": "markdown",
      "source": [
        "#Comparing Clonal Diversity and Overlap\n"
      ],
      "metadata": {
        "id": "06YrrKHyVZWK"
      }
    },
    {
      "cell_type": "markdown",
      "source": [
        "## ClonalDiversity\n",
        "Diversity can also be measured for samples or by other variables. Diversity metrics calculated, include: “shannon”, “inv.simpson”, “norm.entropy”, “gini.simpson”, “chao1”, and “ACE”. Please see the manual for more information on each metric and the underlying calculations.\n",
        "\n",
        "Inherent in diversity calculations is a bias for increasing diversity with increasing repertoire size. clonalDiversity() will automatically downsample to the smallest repertoire size and perform bootstrapping to return the mean diversity estimates. If the output of diversity values are strange or minimally variable, it is likely due to a sample with small repertoire size."
      ],
      "metadata": {
        "id": "TgrHq8P9Ve06"
      }
    },
    {
      "cell_type": "code",
      "source": [
        "clonalDiversity(combined.TCR,\n",
        "                cloneCall = \"gene\")\n",
        "#As a default, clonalDiversity() will return all the metrics calculated - “shannon”,\n",
        "#“inv.simpson”, “norm.entropy”, “gini.simpson”, “chao1”, and “ACE”. Selecting a single or a subset of these methods using the metrics parameter.\n",
        "# e.g. add 'metrics = c(\"shannon\", \"ACE\")',"
      ],
      "metadata": {
        "id": "lIJSxZloVaAg"
      },
      "execution_count": null,
      "outputs": []
    },
    {
      "cell_type": "code",
      "source": [
        "clonalDiversity(combined.BCR,\n",
        "                cloneCall = \"gene\")"
      ],
      "metadata": {
        "id": "j6XPIrfYhIb9"
      },
      "execution_count": null,
      "outputs": []
    },
    {
      "cell_type": "markdown",
      "source": [
        "(optional) you can add patient information and group by patient instead"
      ],
      "metadata": {
        "id": "PdyeM6RwVtPn"
      }
    },
    {
      "cell_type": "code",
      "source": [
        "combined.TCR <- addVariable(\n",
        "  combined.TCR,\n",
        "  variable.name = \"Patient\",\n",
        "  variables = c(\"P17\", \"P17\", \"P18\", \"P18\", \"P19\",\"P19\", \"P20\", \"P20\"))\n",
        "\n",
        "clonalDiversity(combined.TCR,\n",
        "                cloneCall = \"gene\",\n",
        "                group.by = \"Patient\")"
      ],
      "metadata": {
        "id": "sRj7zJBzVrRZ"
      },
      "execution_count": null,
      "outputs": []
    },
    {
      "cell_type": "markdown",
      "source": [
        "## clonalOverlap\n",
        "If you are interested in measures of similarity between the samples loaded into scRepertoire, using clonalOverlap() can assist in the visualization.\n",
        "\n",
        "The underlying clonalOverlap() calculation varies by the method parameter, more information on the exact calculations are available in the manual.\n",
        "**method**:\n",
        "\n",
        "\n",
        "*   “overlap” - overlap coefficient\n",
        "*   “morisita” - Morisita’s overlap index\n",
        "*   “jaccard” - Jaccard index\n",
        "*   “cosine” - cosine similarity\n",
        "*   “raw” - exact number of overlapping clones\n",
        "\n"
      ],
      "metadata": {
        "id": "hI8CfpUTWGLC"
      }
    },
    {
      "cell_type": "code",
      "source": [
        "clonalOverlap(combined.TCR,\n",
        "              cloneCall = \"strict\",\n",
        "              method = \"morisita\")"
      ],
      "metadata": {
        "id": "jHjviUqrWHGE"
      },
      "execution_count": null,
      "outputs": []
    },
    {
      "cell_type": "markdown",
      "source": [
        "Leave cluster by edit distance for now:\n",
        "https://www.borch.dev/uploads/screpertoire/articles/clonal_cluster"
      ],
      "metadata": {
        "id": "u_F-54vTWo8E"
      }
    },
    {
      "cell_type": "markdown",
      "source": [
        "#Combining Clones and Single-Cell Objects\n"
      ],
      "metadata": {
        "id": "dkahxNblWx0J"
      }
    },
    {
      "cell_type": "markdown",
      "source": [
        "## combineExpression and calculating cloneSize\n",
        "After processing the contig data into clones via combineBCR() or combineTCR(), we can add the clonal information to the single-cell object using combineExpression().\n",
        "\n",
        "Part of combineExpression() is calculating the clonal frequency and proportion, placing each clone into groups called cloneSize. The default cloneSize argument uses the following bins: c(Rare = 1e-4, Small = 0.001, Medium = 0.01, Large = 0.1, Hyperexpanded = 1), which can be modified to include more/less bins or different names.\n",
        "\n",
        "Clonal frequency and proportion is dependent on the repertoires being compared, which we can modify the calculation using the group.by parameter, such as grouping by the Patient variable from above. If group.by is not set, combineExpression() will calculate clonal frequency, proportion, and cloneSize as a function of individual sequencing runs. In addition, cloneSize can use the frequency of clones when proportion = FALSE."
      ],
      "metadata": {
        "id": "qKoWmIv2XkIr"
      }
    },
    {
      "cell_type": "code",
      "source": [
        "#Making a Single-Cell Experiment object\n",
        "sce <- Seurat::as.SingleCellExperiment(scRep_example)\n",
        "\n",
        "sce <- combineExpression(combined.TCR,\n",
        "                         sce,\n",
        "                         cloneCall=\"gene\",\n",
        "                         group.by = \"sample\",\n",
        "                         proportion = TRUE)\n",
        "\n",
        "#Define color palette\n",
        "colorblind_vector <- hcl.colors(n=7, palette = \"inferno\", fixup = TRUE)\n",
        "\n",
        "# Visualize UMAP colored by default cloneSize groupings\n",
        "scater::plotUMAP(sce, colour_by = \"cloneSize\") +\n",
        "    scale_color_manual(values=rev(colorblind_vector[c(1,3,5,7)]))"
      ],
      "metadata": {
        "id": "BIfSOhP2WsEO"
      },
      "execution_count": null,
      "outputs": []
    },
    {
      "cell_type": "markdown",
      "source": [
        "Alternatively, if we want cloneSize to be based on the frequency of the clone, we can set proportion = FALSE and we will need to change the cloneSize bins to integers. If we have not inspected our clone data, setting the upper limit of the clonal frequency might be difficult - combineExpression() will automatically adjust the upper limit to fit the distribution of the frequencies. To demonstrate this, check out the Seurat object below:"
      ],
      "metadata": {
        "id": "iDUhy1PEYQZH"
      }
    },
    {
      "cell_type": "code",
      "source": [
        "scRep_example <- combineExpression(combined.TCR,\n",
        "                                   scRep_example,\n",
        "                                   cloneCall=\"gene\",\n",
        "                                   group.by = \"sample\",\n",
        "                                   proportion = FALSE,\n",
        "                                   cloneSize=c(Single=1, Small=5, Medium=20, Large=100, Hyperexpanded=500))\n",
        "\n",
        "Seurat::DimPlot(scRep_example, group.by = \"cloneSize\") +\n",
        "    scale_color_manual(values=rev(colorblind_vector[c(1,3,4,5,7)]))"
      ],
      "metadata": {
        "id": "mz1MKfIJYLP3"
      },
      "execution_count": null,
      "outputs": []
    },
    {
      "cell_type": "markdown",
      "source": [
        "## clonalOccupy\n",
        "We can also look at the count of cells by cluster assigned into specific frequency ranges by using the clonalOccupy() function and selecting the x.axis to display cluster or other variables in the meta data of the single cell object."
      ],
      "metadata": {
        "id": "8QVRSORDYbNb"
      }
    },
    {
      "cell_type": "code",
      "source": [
        "clonalOccupy(scRep_example,\n",
        "             x.axis = \"seurat_clusters\",\n",
        "             proportion = FALSE, #change to TRUE to look at proportions!\n",
        "             label = TRUE) #change to FALSE to not label the bars"
      ],
      "metadata": {
        "id": "WnCzDhVGYapz"
      },
      "execution_count": null,
      "outputs": []
    },
    {
      "cell_type": "markdown",
      "source": [
        "**Optional but feel free to explore more visualization on single cell data in here https://www.borch.dev/uploads/screpertoire/articles/sc_visualizations**"
      ],
      "metadata": {
        "id": "XhdzO6vmZJk4"
      }
    },
    {
      "cell_type": "markdown",
      "source": [
        "# Session information"
      ],
      "metadata": {
        "id": "XWn0KYRtFlJS"
      }
    },
    {
      "cell_type": "code",
      "source": [
        "print(sessionInfo())"
      ],
      "metadata": {
        "id": "dyMoYln1FoqO"
      },
      "execution_count": null,
      "outputs": []
    }
  ]
}